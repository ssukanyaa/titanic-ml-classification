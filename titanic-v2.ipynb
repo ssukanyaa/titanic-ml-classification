{
 "cells": [
  {
   "cell_type": "code",
   "execution_count": 1,
   "id": "546345bc",
   "metadata": {
    "_cell_guid": "b1076dfc-b9ad-4769-8c92-a6c4dae69d19",
    "_uuid": "8f2839f25d086af736a60e9eeb907d3b93b6e0e5",
    "execution": {
     "iopub.execute_input": "2025-01-28T19:10:21.017545Z",
     "iopub.status.busy": "2025-01-28T19:10:21.017088Z",
     "iopub.status.idle": "2025-01-28T19:10:21.977283Z",
     "shell.execute_reply": "2025-01-28T19:10:21.976160Z"
    },
    "papermill": {
     "duration": 0.976573,
     "end_time": "2025-01-28T19:10:21.979058",
     "exception": false,
     "start_time": "2025-01-28T19:10:21.002485",
     "status": "completed"
    },
    "tags": []
   },
   "outputs": [
    {
     "name": "stdout",
     "output_type": "stream",
     "text": [
      "/kaggle/input/titanic/train.csv\n",
      "/kaggle/input/titanic/test.csv\n",
      "/kaggle/input/titanic/gender_submission.csv\n"
     ]
    }
   ],
   "source": [
    "# This Python 3 environment comes with many helpful analytics libraries installed\n",
    "# It is defined by the kaggle/python Docker image: https://github.com/kaggle/docker-python\n",
    "# For example, here's several helpful packages to load\n",
    "\n",
    "import numpy as np # linear algebra\n",
    "import pandas as pd # data processing, CSV file I/O (e.g. pd.read_csv)\n",
    "\n",
    "# Input data files are available in the read-only \"../input/\" directory\n",
    "# For example, running this (by clicking run or pressing Shift+Enter) will list all files under the input directory\n",
    "\n",
    "import os\n",
    "for dirname, _, filenames in os.walk('/kaggle/input'):\n",
    "    for filename in filenames:\n",
    "        print(os.path.join(dirname, filename))\n",
    "\n",
    "# You can write up to 20GB to the current directory (/kaggle/working/) that gets preserved as output when you create a version using \"Save & Run All\" \n",
    "# You can also write temporary files to /kaggle/temp/, but they won't be saved outside of the current session"
   ]
  },
  {
   "cell_type": "code",
   "execution_count": 2,
   "id": "14b6d672",
   "metadata": {
    "execution": {
     "iopub.execute_input": "2025-01-28T19:10:22.005206Z",
     "iopub.status.busy": "2025-01-28T19:10:22.004672Z",
     "iopub.status.idle": "2025-01-28T19:10:22.049817Z",
     "shell.execute_reply": "2025-01-28T19:10:22.048580Z"
    },
    "papermill": {
     "duration": 0.05983,
     "end_time": "2025-01-28T19:10:22.051600",
     "exception": false,
     "start_time": "2025-01-28T19:10:21.991770",
     "status": "completed"
    },
    "tags": []
   },
   "outputs": [
    {
     "data": {
      "text/html": [
       "<div>\n",
       "<style scoped>\n",
       "    .dataframe tbody tr th:only-of-type {\n",
       "        vertical-align: middle;\n",
       "    }\n",
       "\n",
       "    .dataframe tbody tr th {\n",
       "        vertical-align: top;\n",
       "    }\n",
       "\n",
       "    .dataframe thead th {\n",
       "        text-align: right;\n",
       "    }\n",
       "</style>\n",
       "<table border=\"1\" class=\"dataframe\">\n",
       "  <thead>\n",
       "    <tr style=\"text-align: right;\">\n",
       "      <th></th>\n",
       "      <th>PassengerId</th>\n",
       "      <th>Survived</th>\n",
       "      <th>Pclass</th>\n",
       "      <th>Name</th>\n",
       "      <th>Sex</th>\n",
       "      <th>Age</th>\n",
       "      <th>SibSp</th>\n",
       "      <th>Parch</th>\n",
       "      <th>Ticket</th>\n",
       "      <th>Fare</th>\n",
       "      <th>Cabin</th>\n",
       "      <th>Embarked</th>\n",
       "    </tr>\n",
       "  </thead>\n",
       "  <tbody>\n",
       "    <tr>\n",
       "      <th>0</th>\n",
       "      <td>1</td>\n",
       "      <td>0</td>\n",
       "      <td>3</td>\n",
       "      <td>Braund, Mr. Owen Harris</td>\n",
       "      <td>male</td>\n",
       "      <td>22.0</td>\n",
       "      <td>1</td>\n",
       "      <td>0</td>\n",
       "      <td>A/5 21171</td>\n",
       "      <td>7.2500</td>\n",
       "      <td>NaN</td>\n",
       "      <td>S</td>\n",
       "    </tr>\n",
       "    <tr>\n",
       "      <th>1</th>\n",
       "      <td>2</td>\n",
       "      <td>1</td>\n",
       "      <td>1</td>\n",
       "      <td>Cumings, Mrs. John Bradley (Florence Briggs Th...</td>\n",
       "      <td>female</td>\n",
       "      <td>38.0</td>\n",
       "      <td>1</td>\n",
       "      <td>0</td>\n",
       "      <td>PC 17599</td>\n",
       "      <td>71.2833</td>\n",
       "      <td>C85</td>\n",
       "      <td>C</td>\n",
       "    </tr>\n",
       "    <tr>\n",
       "      <th>2</th>\n",
       "      <td>3</td>\n",
       "      <td>1</td>\n",
       "      <td>3</td>\n",
       "      <td>Heikkinen, Miss. Laina</td>\n",
       "      <td>female</td>\n",
       "      <td>26.0</td>\n",
       "      <td>0</td>\n",
       "      <td>0</td>\n",
       "      <td>STON/O2. 3101282</td>\n",
       "      <td>7.9250</td>\n",
       "      <td>NaN</td>\n",
       "      <td>S</td>\n",
       "    </tr>\n",
       "    <tr>\n",
       "      <th>3</th>\n",
       "      <td>4</td>\n",
       "      <td>1</td>\n",
       "      <td>1</td>\n",
       "      <td>Futrelle, Mrs. Jacques Heath (Lily May Peel)</td>\n",
       "      <td>female</td>\n",
       "      <td>35.0</td>\n",
       "      <td>1</td>\n",
       "      <td>0</td>\n",
       "      <td>113803</td>\n",
       "      <td>53.1000</td>\n",
       "      <td>C123</td>\n",
       "      <td>S</td>\n",
       "    </tr>\n",
       "    <tr>\n",
       "      <th>4</th>\n",
       "      <td>5</td>\n",
       "      <td>0</td>\n",
       "      <td>3</td>\n",
       "      <td>Allen, Mr. William Henry</td>\n",
       "      <td>male</td>\n",
       "      <td>35.0</td>\n",
       "      <td>0</td>\n",
       "      <td>0</td>\n",
       "      <td>373450</td>\n",
       "      <td>8.0500</td>\n",
       "      <td>NaN</td>\n",
       "      <td>S</td>\n",
       "    </tr>\n",
       "  </tbody>\n",
       "</table>\n",
       "</div>"
      ],
      "text/plain": [
       "   PassengerId  Survived  Pclass  \\\n",
       "0            1         0       3   \n",
       "1            2         1       1   \n",
       "2            3         1       3   \n",
       "3            4         1       1   \n",
       "4            5         0       3   \n",
       "\n",
       "                                                Name     Sex   Age  SibSp  \\\n",
       "0                            Braund, Mr. Owen Harris    male  22.0      1   \n",
       "1  Cumings, Mrs. John Bradley (Florence Briggs Th...  female  38.0      1   \n",
       "2                             Heikkinen, Miss. Laina  female  26.0      0   \n",
       "3       Futrelle, Mrs. Jacques Heath (Lily May Peel)  female  35.0      1   \n",
       "4                           Allen, Mr. William Henry    male  35.0      0   \n",
       "\n",
       "   Parch            Ticket     Fare Cabin Embarked  \n",
       "0      0         A/5 21171   7.2500   NaN        S  \n",
       "1      0          PC 17599  71.2833   C85        C  \n",
       "2      0  STON/O2. 3101282   7.9250   NaN        S  \n",
       "3      0            113803  53.1000  C123        S  \n",
       "4      0            373450   8.0500   NaN        S  "
      ]
     },
     "execution_count": 2,
     "metadata": {},
     "output_type": "execute_result"
    }
   ],
   "source": [
    "train_data = pd.read_csv(\"/kaggle/input/titanic/train.csv\")\n",
    "train_data.head()"
   ]
  },
  {
   "cell_type": "code",
   "execution_count": 3,
   "id": "d22f8396",
   "metadata": {
    "execution": {
     "iopub.execute_input": "2025-01-28T19:10:22.078118Z",
     "iopub.status.busy": "2025-01-28T19:10:22.077702Z",
     "iopub.status.idle": "2025-01-28T19:10:22.098957Z",
     "shell.execute_reply": "2025-01-28T19:10:22.097832Z"
    },
    "papermill": {
     "duration": 0.036194,
     "end_time": "2025-01-28T19:10:22.100667",
     "exception": false,
     "start_time": "2025-01-28T19:10:22.064473",
     "status": "completed"
    },
    "tags": []
   },
   "outputs": [
    {
     "data": {
      "text/html": [
       "<div>\n",
       "<style scoped>\n",
       "    .dataframe tbody tr th:only-of-type {\n",
       "        vertical-align: middle;\n",
       "    }\n",
       "\n",
       "    .dataframe tbody tr th {\n",
       "        vertical-align: top;\n",
       "    }\n",
       "\n",
       "    .dataframe thead th {\n",
       "        text-align: right;\n",
       "    }\n",
       "</style>\n",
       "<table border=\"1\" class=\"dataframe\">\n",
       "  <thead>\n",
       "    <tr style=\"text-align: right;\">\n",
       "      <th></th>\n",
       "      <th>PassengerId</th>\n",
       "      <th>Pclass</th>\n",
       "      <th>Name</th>\n",
       "      <th>Sex</th>\n",
       "      <th>Age</th>\n",
       "      <th>SibSp</th>\n",
       "      <th>Parch</th>\n",
       "      <th>Ticket</th>\n",
       "      <th>Fare</th>\n",
       "      <th>Cabin</th>\n",
       "      <th>Embarked</th>\n",
       "    </tr>\n",
       "  </thead>\n",
       "  <tbody>\n",
       "    <tr>\n",
       "      <th>0</th>\n",
       "      <td>892</td>\n",
       "      <td>3</td>\n",
       "      <td>Kelly, Mr. James</td>\n",
       "      <td>male</td>\n",
       "      <td>34.5</td>\n",
       "      <td>0</td>\n",
       "      <td>0</td>\n",
       "      <td>330911</td>\n",
       "      <td>7.8292</td>\n",
       "      <td>NaN</td>\n",
       "      <td>Q</td>\n",
       "    </tr>\n",
       "    <tr>\n",
       "      <th>1</th>\n",
       "      <td>893</td>\n",
       "      <td>3</td>\n",
       "      <td>Wilkes, Mrs. James (Ellen Needs)</td>\n",
       "      <td>female</td>\n",
       "      <td>47.0</td>\n",
       "      <td>1</td>\n",
       "      <td>0</td>\n",
       "      <td>363272</td>\n",
       "      <td>7.0000</td>\n",
       "      <td>NaN</td>\n",
       "      <td>S</td>\n",
       "    </tr>\n",
       "    <tr>\n",
       "      <th>2</th>\n",
       "      <td>894</td>\n",
       "      <td>2</td>\n",
       "      <td>Myles, Mr. Thomas Francis</td>\n",
       "      <td>male</td>\n",
       "      <td>62.0</td>\n",
       "      <td>0</td>\n",
       "      <td>0</td>\n",
       "      <td>240276</td>\n",
       "      <td>9.6875</td>\n",
       "      <td>NaN</td>\n",
       "      <td>Q</td>\n",
       "    </tr>\n",
       "    <tr>\n",
       "      <th>3</th>\n",
       "      <td>895</td>\n",
       "      <td>3</td>\n",
       "      <td>Wirz, Mr. Albert</td>\n",
       "      <td>male</td>\n",
       "      <td>27.0</td>\n",
       "      <td>0</td>\n",
       "      <td>0</td>\n",
       "      <td>315154</td>\n",
       "      <td>8.6625</td>\n",
       "      <td>NaN</td>\n",
       "      <td>S</td>\n",
       "    </tr>\n",
       "    <tr>\n",
       "      <th>4</th>\n",
       "      <td>896</td>\n",
       "      <td>3</td>\n",
       "      <td>Hirvonen, Mrs. Alexander (Helga E Lindqvist)</td>\n",
       "      <td>female</td>\n",
       "      <td>22.0</td>\n",
       "      <td>1</td>\n",
       "      <td>1</td>\n",
       "      <td>3101298</td>\n",
       "      <td>12.2875</td>\n",
       "      <td>NaN</td>\n",
       "      <td>S</td>\n",
       "    </tr>\n",
       "  </tbody>\n",
       "</table>\n",
       "</div>"
      ],
      "text/plain": [
       "   PassengerId  Pclass                                          Name     Sex  \\\n",
       "0          892       3                              Kelly, Mr. James    male   \n",
       "1          893       3              Wilkes, Mrs. James (Ellen Needs)  female   \n",
       "2          894       2                     Myles, Mr. Thomas Francis    male   \n",
       "3          895       3                              Wirz, Mr. Albert    male   \n",
       "4          896       3  Hirvonen, Mrs. Alexander (Helga E Lindqvist)  female   \n",
       "\n",
       "    Age  SibSp  Parch   Ticket     Fare Cabin Embarked  \n",
       "0  34.5      0      0   330911   7.8292   NaN        Q  \n",
       "1  47.0      1      0   363272   7.0000   NaN        S  \n",
       "2  62.0      0      0   240276   9.6875   NaN        Q  \n",
       "3  27.0      0      0   315154   8.6625   NaN        S  \n",
       "4  22.0      1      1  3101298  12.2875   NaN        S  "
      ]
     },
     "execution_count": 3,
     "metadata": {},
     "output_type": "execute_result"
    }
   ],
   "source": [
    "test_data = pd.read_csv(\"/kaggle/input/titanic/test.csv\")\n",
    "test_data.head()"
   ]
  },
  {
   "cell_type": "code",
   "execution_count": 4,
   "id": "af034caf",
   "metadata": {
    "execution": {
     "iopub.execute_input": "2025-01-28T19:10:22.128185Z",
     "iopub.status.busy": "2025-01-28T19:10:22.127771Z",
     "iopub.status.idle": "2025-01-28T19:10:22.158587Z",
     "shell.execute_reply": "2025-01-28T19:10:22.157509Z"
    },
    "papermill": {
     "duration": 0.046388,
     "end_time": "2025-01-28T19:10:22.160495",
     "exception": false,
     "start_time": "2025-01-28T19:10:22.114107",
     "status": "completed"
    },
    "tags": []
   },
   "outputs": [
    {
     "data": {
      "text/html": [
       "<div>\n",
       "<style scoped>\n",
       "    .dataframe tbody tr th:only-of-type {\n",
       "        vertical-align: middle;\n",
       "    }\n",
       "\n",
       "    .dataframe tbody tr th {\n",
       "        vertical-align: top;\n",
       "    }\n",
       "\n",
       "    .dataframe thead th {\n",
       "        text-align: right;\n",
       "    }\n",
       "</style>\n",
       "<table border=\"1\" class=\"dataframe\">\n",
       "  <thead>\n",
       "    <tr style=\"text-align: right;\">\n",
       "      <th></th>\n",
       "      <th>PassengerId</th>\n",
       "      <th>Survived</th>\n",
       "      <th>Pclass</th>\n",
       "      <th>Age</th>\n",
       "      <th>SibSp</th>\n",
       "      <th>Parch</th>\n",
       "      <th>Fare</th>\n",
       "    </tr>\n",
       "  </thead>\n",
       "  <tbody>\n",
       "    <tr>\n",
       "      <th>count</th>\n",
       "      <td>891.000000</td>\n",
       "      <td>891.000000</td>\n",
       "      <td>891.000000</td>\n",
       "      <td>714.000000</td>\n",
       "      <td>891.000000</td>\n",
       "      <td>891.000000</td>\n",
       "      <td>891.000000</td>\n",
       "    </tr>\n",
       "    <tr>\n",
       "      <th>mean</th>\n",
       "      <td>446.000000</td>\n",
       "      <td>0.383838</td>\n",
       "      <td>2.308642</td>\n",
       "      <td>29.699118</td>\n",
       "      <td>0.523008</td>\n",
       "      <td>0.381594</td>\n",
       "      <td>32.204208</td>\n",
       "    </tr>\n",
       "    <tr>\n",
       "      <th>std</th>\n",
       "      <td>257.353842</td>\n",
       "      <td>0.486592</td>\n",
       "      <td>0.836071</td>\n",
       "      <td>14.526497</td>\n",
       "      <td>1.102743</td>\n",
       "      <td>0.806057</td>\n",
       "      <td>49.693429</td>\n",
       "    </tr>\n",
       "    <tr>\n",
       "      <th>min</th>\n",
       "      <td>1.000000</td>\n",
       "      <td>0.000000</td>\n",
       "      <td>1.000000</td>\n",
       "      <td>0.420000</td>\n",
       "      <td>0.000000</td>\n",
       "      <td>0.000000</td>\n",
       "      <td>0.000000</td>\n",
       "    </tr>\n",
       "    <tr>\n",
       "      <th>25%</th>\n",
       "      <td>223.500000</td>\n",
       "      <td>0.000000</td>\n",
       "      <td>2.000000</td>\n",
       "      <td>20.125000</td>\n",
       "      <td>0.000000</td>\n",
       "      <td>0.000000</td>\n",
       "      <td>7.910400</td>\n",
       "    </tr>\n",
       "    <tr>\n",
       "      <th>50%</th>\n",
       "      <td>446.000000</td>\n",
       "      <td>0.000000</td>\n",
       "      <td>3.000000</td>\n",
       "      <td>28.000000</td>\n",
       "      <td>0.000000</td>\n",
       "      <td>0.000000</td>\n",
       "      <td>14.454200</td>\n",
       "    </tr>\n",
       "    <tr>\n",
       "      <th>75%</th>\n",
       "      <td>668.500000</td>\n",
       "      <td>1.000000</td>\n",
       "      <td>3.000000</td>\n",
       "      <td>38.000000</td>\n",
       "      <td>1.000000</td>\n",
       "      <td>0.000000</td>\n",
       "      <td>31.000000</td>\n",
       "    </tr>\n",
       "    <tr>\n",
       "      <th>max</th>\n",
       "      <td>891.000000</td>\n",
       "      <td>1.000000</td>\n",
       "      <td>3.000000</td>\n",
       "      <td>80.000000</td>\n",
       "      <td>8.000000</td>\n",
       "      <td>6.000000</td>\n",
       "      <td>512.329200</td>\n",
       "    </tr>\n",
       "  </tbody>\n",
       "</table>\n",
       "</div>"
      ],
      "text/plain": [
       "       PassengerId    Survived      Pclass         Age       SibSp  \\\n",
       "count   891.000000  891.000000  891.000000  714.000000  891.000000   \n",
       "mean    446.000000    0.383838    2.308642   29.699118    0.523008   \n",
       "std     257.353842    0.486592    0.836071   14.526497    1.102743   \n",
       "min       1.000000    0.000000    1.000000    0.420000    0.000000   \n",
       "25%     223.500000    0.000000    2.000000   20.125000    0.000000   \n",
       "50%     446.000000    0.000000    3.000000   28.000000    0.000000   \n",
       "75%     668.500000    1.000000    3.000000   38.000000    1.000000   \n",
       "max     891.000000    1.000000    3.000000   80.000000    8.000000   \n",
       "\n",
       "            Parch        Fare  \n",
       "count  891.000000  891.000000  \n",
       "mean     0.381594   32.204208  \n",
       "std      0.806057   49.693429  \n",
       "min      0.000000    0.000000  \n",
       "25%      0.000000    7.910400  \n",
       "50%      0.000000   14.454200  \n",
       "75%      0.000000   31.000000  \n",
       "max      6.000000  512.329200  "
      ]
     },
     "execution_count": 4,
     "metadata": {},
     "output_type": "execute_result"
    }
   ],
   "source": [
    "train_data.describe()"
   ]
  },
  {
   "cell_type": "code",
   "execution_count": 5,
   "id": "46ef7bed",
   "metadata": {
    "execution": {
     "iopub.execute_input": "2025-01-28T19:10:22.187977Z",
     "iopub.status.busy": "2025-01-28T19:10:22.187523Z",
     "iopub.status.idle": "2025-01-28T19:10:22.195771Z",
     "shell.execute_reply": "2025-01-28T19:10:22.194236Z"
    },
    "papermill": {
     "duration": 0.024135,
     "end_time": "2025-01-28T19:10:22.197531",
     "exception": false,
     "start_time": "2025-01-28T19:10:22.173396",
     "status": "completed"
    },
    "tags": []
   },
   "outputs": [
    {
     "data": {
      "text/plain": [
       "PassengerId      0\n",
       "Pclass           0\n",
       "Name             0\n",
       "Sex              0\n",
       "Age             86\n",
       "SibSp            0\n",
       "Parch            0\n",
       "Ticket           0\n",
       "Fare             1\n",
       "Cabin          327\n",
       "Embarked         0\n",
       "dtype: int64"
      ]
     },
     "execution_count": 5,
     "metadata": {},
     "output_type": "execute_result"
    }
   ],
   "source": [
    "test_data.isnull().sum()"
   ]
  },
  {
   "cell_type": "code",
   "execution_count": 6,
   "id": "45a0764e",
   "metadata": {
    "execution": {
     "iopub.execute_input": "2025-01-28T19:10:22.225270Z",
     "iopub.status.busy": "2025-01-28T19:10:22.224903Z",
     "iopub.status.idle": "2025-01-28T19:10:22.229326Z",
     "shell.execute_reply": "2025-01-28T19:10:22.228296Z"
    },
    "papermill": {
     "duration": 0.020439,
     "end_time": "2025-01-28T19:10:22.231309",
     "exception": false,
     "start_time": "2025-01-28T19:10:22.210870",
     "status": "completed"
    },
    "tags": []
   },
   "outputs": [],
   "source": [
    "df = train_data.copy()"
   ]
  },
  {
   "cell_type": "code",
   "execution_count": 7,
   "id": "e9c6aed6",
   "metadata": {
    "execution": {
     "iopub.execute_input": "2025-01-28T19:10:22.258603Z",
     "iopub.status.busy": "2025-01-28T19:10:22.258278Z",
     "iopub.status.idle": "2025-01-28T19:10:22.280088Z",
     "shell.execute_reply": "2025-01-28T19:10:22.278940Z"
    },
    "papermill": {
     "duration": 0.037062,
     "end_time": "2025-01-28T19:10:22.281587",
     "exception": false,
     "start_time": "2025-01-28T19:10:22.244525",
     "status": "completed"
    },
    "tags": []
   },
   "outputs": [
    {
     "name": "stdout",
     "output_type": "stream",
     "text": [
      "<class 'pandas.core.frame.DataFrame'>\n",
      "RangeIndex: 891 entries, 0 to 890\n",
      "Data columns (total 12 columns):\n",
      " #   Column       Non-Null Count  Dtype  \n",
      "---  ------       --------------  -----  \n",
      " 0   PassengerId  891 non-null    int64  \n",
      " 1   Survived     891 non-null    int64  \n",
      " 2   Pclass       891 non-null    int64  \n",
      " 3   Name         891 non-null    object \n",
      " 4   Sex          891 non-null    object \n",
      " 5   Age          714 non-null    float64\n",
      " 6   SibSp        891 non-null    int64  \n",
      " 7   Parch        891 non-null    int64  \n",
      " 8   Ticket       891 non-null    object \n",
      " 9   Fare         891 non-null    float64\n",
      " 10  Cabin        204 non-null    object \n",
      " 11  Embarked     889 non-null    object \n",
      "dtypes: float64(2), int64(5), object(5)\n",
      "memory usage: 83.7+ KB\n"
     ]
    }
   ],
   "source": [
    "df.info()"
   ]
  },
  {
   "cell_type": "code",
   "execution_count": 8,
   "id": "ca2b5420",
   "metadata": {
    "execution": {
     "iopub.execute_input": "2025-01-28T19:10:22.308930Z",
     "iopub.status.busy": "2025-01-28T19:10:22.308509Z",
     "iopub.status.idle": "2025-01-28T19:10:22.314576Z",
     "shell.execute_reply": "2025-01-28T19:10:22.313325Z"
    },
    "papermill": {
     "duration": 0.02181,
     "end_time": "2025-01-28T19:10:22.316403",
     "exception": false,
     "start_time": "2025-01-28T19:10:22.294593",
     "status": "completed"
    },
    "tags": []
   },
   "outputs": [
    {
     "data": {
      "text/plain": [
       "(891, 12)"
      ]
     },
     "execution_count": 8,
     "metadata": {},
     "output_type": "execute_result"
    }
   ],
   "source": [
    "df.shape"
   ]
  },
  {
   "cell_type": "code",
   "execution_count": 9,
   "id": "6d056433",
   "metadata": {
    "execution": {
     "iopub.execute_input": "2025-01-28T19:10:22.343536Z",
     "iopub.status.busy": "2025-01-28T19:10:22.343174Z",
     "iopub.status.idle": "2025-01-28T19:10:24.115496Z",
     "shell.execute_reply": "2025-01-28T19:10:24.114278Z"
    },
    "papermill": {
     "duration": 1.787845,
     "end_time": "2025-01-28T19:10:24.117301",
     "exception": false,
     "start_time": "2025-01-28T19:10:22.329456",
     "status": "completed"
    },
    "tags": []
   },
   "outputs": [],
   "source": [
    "import matplotlib.pyplot as plt\n",
    "%matplotlib inline\n",
    "import seaborn as sns"
   ]
  },
  {
   "cell_type": "code",
   "execution_count": 10,
   "id": "cf262c26",
   "metadata": {
    "execution": {
     "iopub.execute_input": "2025-01-28T19:10:24.144902Z",
     "iopub.status.busy": "2025-01-28T19:10:24.144348Z",
     "iopub.status.idle": "2025-01-28T19:10:24.150928Z",
     "shell.execute_reply": "2025-01-28T19:10:24.149941Z"
    },
    "papermill": {
     "duration": 0.022038,
     "end_time": "2025-01-28T19:10:24.152533",
     "exception": false,
     "start_time": "2025-01-28T19:10:24.130495",
     "status": "completed"
    },
    "tags": []
   },
   "outputs": [],
   "source": [
    "def countplots(data, feature,perc):\n",
    "  ax = sns.countplot(data = df, x = feature)\n",
    "  plt.xticks(rotation = 90)\n",
    "  for p in ax.patches:\n",
    "        if perc == True:\n",
    "            label = \"{:.1f}%\".format(\n",
    "                100 * p.get_height() / len(data[feature])\n",
    "            )  # percentage of each class of the category\n",
    "        else:\n",
    "            label = p.get_height()  # count of each level of the category\n",
    "\n",
    "        x = p.get_x() + p.get_width() / 2  # width of the plot\n",
    "        y = p.get_height()  # height of the plot\n",
    "\n",
    "        ax.annotate(\n",
    "            label,\n",
    "            (x, y),\n",
    "            ha=\"center\",\n",
    "            va=\"center\",\n",
    "            size=12,\n",
    "            xytext=(0, 5),\n",
    "            textcoords=\"offset points\",\n",
    "        )  # annotate the percentage\n",
    "  plt.show()"
   ]
  },
  {
   "cell_type": "code",
   "execution_count": 11,
   "id": "94930de1",
   "metadata": {
    "execution": {
     "iopub.execute_input": "2025-01-28T19:10:24.179913Z",
     "iopub.status.busy": "2025-01-28T19:10:24.179465Z",
     "iopub.status.idle": "2025-01-28T19:10:24.191653Z",
     "shell.execute_reply": "2025-01-28T19:10:24.190319Z"
    },
    "papermill": {
     "duration": 0.027764,
     "end_time": "2025-01-28T19:10:24.193442",
     "exception": false,
     "start_time": "2025-01-28T19:10:24.165678",
     "status": "completed"
    },
    "tags": []
   },
   "outputs": [
    {
     "name": "stdout",
     "output_type": "stream",
     "text": [
      "<class 'pandas.core.frame.DataFrame'>\n",
      "RangeIndex: 891 entries, 0 to 890\n",
      "Data columns (total 12 columns):\n",
      " #   Column       Non-Null Count  Dtype  \n",
      "---  ------       --------------  -----  \n",
      " 0   PassengerId  891 non-null    int64  \n",
      " 1   Survived     891 non-null    int64  \n",
      " 2   Pclass       891 non-null    int64  \n",
      " 3   Name         891 non-null    object \n",
      " 4   Sex          891 non-null    object \n",
      " 5   Age          714 non-null    float64\n",
      " 6   SibSp        891 non-null    int64  \n",
      " 7   Parch        891 non-null    int64  \n",
      " 8   Ticket       891 non-null    object \n",
      " 9   Fare         891 non-null    float64\n",
      " 10  Cabin        204 non-null    object \n",
      " 11  Embarked     889 non-null    object \n",
      "dtypes: float64(2), int64(5), object(5)\n",
      "memory usage: 83.7+ KB\n"
     ]
    }
   ],
   "source": [
    "df.info()"
   ]
  },
  {
   "cell_type": "code",
   "execution_count": 12,
   "id": "33b4a2a6",
   "metadata": {
    "execution": {
     "iopub.execute_input": "2025-01-28T19:10:24.221051Z",
     "iopub.status.busy": "2025-01-28T19:10:24.220589Z",
     "iopub.status.idle": "2025-01-28T19:10:24.442015Z",
     "shell.execute_reply": "2025-01-28T19:10:24.440940Z"
    },
    "papermill": {
     "duration": 0.237165,
     "end_time": "2025-01-28T19:10:24.443774",
     "exception": false,
     "start_time": "2025-01-28T19:10:24.206609",
     "status": "completed"
    },
    "tags": []
   },
   "outputs": [
    {
     "data": {
      "image/png": "[encoded data removed]",
      "text/plain": [
       "<Figure size 640x480 with 1 Axes>"
      ]
     },
     "metadata": {},
     "output_type": "display_data"
    }
   ],
   "source": [
    "countplots(df,'Survived', perc = True)"
   ]
  },
  {
   "cell_type": "code",
   "execution_count": 13,
   "id": "aaa02fc5",
   "metadata": {
    "execution": {
     "iopub.execute_input": "2025-01-28T19:10:24.472225Z",
     "iopub.status.busy": "2025-01-28T19:10:24.471821Z",
     "iopub.status.idle": "2025-01-28T19:10:24.602187Z",
     "shell.execute_reply": "2025-01-28T19:10:24.601158Z"
    },
    "papermill": {
     "duration": 0.146344,
     "end_time": "2025-01-28T19:10:24.603943",
     "exception": false,
     "start_time": "2025-01-28T19:10:24.457599",
     "status": "completed"
    },
    "tags": []
   },
   "outputs": [
    {
     "data": {
      "image/png": "[encoded data removed]",
      "text/plain": [
       "<Figure size 640x480 with 1 Axes>"
      ]
     },
     "metadata": {},
     "output_type": "display_data"
    }
   ],
   "source": [
    "countplots(df, 'Pclass', perc = True)"
   ]
  },
  {
   "cell_type": "code",
   "execution_count": 14,
   "id": "115ba4b7",
   "metadata": {
    "execution": {
     "iopub.execute_input": "2025-01-28T19:10:24.633062Z",
     "iopub.status.busy": "2025-01-28T19:10:24.632617Z",
     "iopub.status.idle": "2025-01-28T19:10:24.763630Z",
     "shell.execute_reply": "2025-01-28T19:10:24.762479Z"
    },
    "papermill": {
     "duration": 0.147843,
     "end_time": "2025-01-28T19:10:24.765654",
     "exception": false,
     "start_time": "2025-01-28T19:10:24.617811",
     "status": "completed"
    },
    "tags": []
   },
   "outputs": [
    {
     "data": {
      "image/png": "[encoded data removed]",
      "text/plain": [
       "<Figure size 640x480 with 1 Axes>"
      ]
     },
     "metadata": {},
     "output_type": "display_data"
    }
   ],
   "source": [
    "countplots(df,'Sex', perc = True)"
   ]
  },
  {
   "cell_type": "code",
   "execution_count": 15,
   "id": "535a50f1",
   "metadata": {
    "execution": {
     "iopub.execute_input": "2025-01-28T19:10:24.797141Z",
     "iopub.status.busy": "2025-01-28T19:10:24.796719Z",
     "iopub.status.idle": "2025-01-28T19:10:24.978501Z",
     "shell.execute_reply": "2025-01-28T19:10:24.977280Z"
    },
    "papermill": {
     "duration": 0.199121,
     "end_time": "2025-01-28T19:10:24.980340",
     "exception": false,
     "start_time": "2025-01-28T19:10:24.781219",
     "status": "completed"
    },
    "tags": []
   },
   "outputs": [
    {
     "data": {
      "image/png": "[encoded data removed]",
      "text/plain": [
       "<Figure size 640x480 with 1 Axes>"
      ]
     },
     "metadata": {},
     "output_type": "display_data"
    }
   ],
   "source": [
    "countplots(df,'SibSp', perc = True)"
   ]
  },
  {
   "cell_type": "code",
   "execution_count": 16,
   "id": "28d57aec",
   "metadata": {
    "execution": {
     "iopub.execute_input": "2025-01-28T19:10:25.011640Z",
     "iopub.status.busy": "2025-01-28T19:10:25.011266Z",
     "iopub.status.idle": "2025-01-28T19:10:25.196910Z",
     "shell.execute_reply": "2025-01-28T19:10:25.195781Z"
    },
    "papermill": {
     "duration": 0.203421,
     "end_time": "2025-01-28T19:10:25.199105",
     "exception": false,
     "start_time": "2025-01-28T19:10:24.995684",
     "status": "completed"
    },
    "tags": []
   },
   "outputs": [
    {
     "data": {
      "image/png": "[encoded data removed]",
      "text/plain": [
       "<Figure size 640x480 with 1 Axes>"
      ]
     },
     "metadata": {},
     "output_type": "display_data"
    }
   ],
   "source": [
    "countplots(df,'Parch', perc = True)"
   ]
  },
  {
   "cell_type": "code",
   "execution_count": 17,
   "id": "560761c6",
   "metadata": {
    "execution": {
     "iopub.execute_input": "2025-01-28T19:10:25.232024Z",
     "iopub.status.busy": "2025-01-28T19:10:25.231601Z",
     "iopub.status.idle": "2025-01-28T19:10:25.376011Z",
     "shell.execute_reply": "2025-01-28T19:10:25.374827Z"
    },
    "papermill": {
     "duration": 0.163071,
     "end_time": "2025-01-28T19:10:25.377955",
     "exception": false,
     "start_time": "2025-01-28T19:10:25.214884",
     "status": "completed"
    },
    "tags": []
   },
   "outputs": [
    {
     "data": {
      "image/png": "[encoded data removed]",
      "text/plain": [
       "<Figure size 640x480 with 1 Axes>"
      ]
     },
     "metadata": {},
     "output_type": "display_data"
    }
   ],
   "source": [
    "countplots(df,'Embarked', perc = True)"
   ]
  },
  {
   "cell_type": "code",
   "execution_count": 18,
   "id": "9f44f99d",
   "metadata": {
    "execution": {
     "iopub.execute_input": "2025-01-28T19:10:25.411520Z",
     "iopub.status.busy": "2025-01-28T19:10:25.411177Z",
     "iopub.status.idle": "2025-01-28T19:10:25.418389Z",
     "shell.execute_reply": "2025-01-28T19:10:25.417286Z"
    },
    "papermill": {
     "duration": 0.025476,
     "end_time": "2025-01-28T19:10:25.420194",
     "exception": false,
     "start_time": "2025-01-28T19:10:25.394718",
     "status": "completed"
    },
    "tags": []
   },
   "outputs": [],
   "source": [
    "def histogram_boxplot(data, feature, figsize=(12, 7), kde=False, bins=None):\n",
    "    \"\"\"\n",
    "    Boxplot and histogram combined\n",
    "\n",
    "    data: dataframe\n",
    "    feature: dataframe column\n",
    "    figsize: size of figure (default (12,7))\n",
    "    kde: whether to show the density curve (default False)\n",
    "    bins: number of bins for histogram (default None)\n",
    "    \"\"\"\n",
    "    f2, (ax_box2, ax_hist2) = plt.subplots(\n",
    "        nrows=2,  # Number of rows of the subplot grid= 2\n",
    "        sharex=True,  # x-axis will be shared among all subplots\n",
    "        gridspec_kw={\"height_ratios\": (0.25, 0.75)},\n",
    "        figsize=figsize,\n",
    "    )  # creating the 2 subplots\n",
    "    sns.boxplot(\n",
    "        data=data, x=feature, ax=ax_box2, showmeans=True, color=\"violet\"\n",
    "    )  # boxplot will be created and a triangle will indicate the mean value of the column\n",
    "    sns.histplot(\n",
    "        data=data, x=feature, kde=kde, ax=ax_hist2, bins=bins\n",
    "    ) if bins else sns.histplot(\n",
    "        data=data, x=feature, kde=kde, ax=ax_hist2\n",
    "    )  # For histogram\n",
    "    ax_hist2.axvline(\n",
    "        data[feature].mean(), color=\"green\", linestyle=\"--\"\n",
    "    )  # Add mean to the histogram\n",
    "    ax_hist2.axvline(\n",
    "        data[feature].median(), color=\"black\", linestyle=\"-\"\n",
    "    )  # Add median to the histogram"
   ]
  },
  {
   "cell_type": "code",
   "execution_count": 19,
   "id": "5e9c4fcc",
   "metadata": {
    "execution": {
     "iopub.execute_input": "2025-01-28T19:10:25.453391Z",
     "iopub.status.busy": "2025-01-28T19:10:25.453009Z",
     "iopub.status.idle": "2025-01-28T19:10:25.898704Z",
     "shell.execute_reply": "2025-01-28T19:10:25.897305Z"
    },
    "papermill": {
     "duration": 0.465386,
     "end_time": "2025-01-28T19:10:25.901213",
     "exception": false,
     "start_time": "2025-01-28T19:10:25.435827",
     "status": "completed"
    },
    "tags": []
   },
   "outputs": [
    {
     "name": "stderr",
     "output_type": "stream",
     "text": [
      "/usr/local/lib/python3.10/dist-packages/seaborn/_oldcore.py:1119: FutureWarning: use_inf_as_na option is deprecated and will be removed in a future version. Convert inf values to NaN before operating instead.\n",
      "  with pd.option_context('mode.use_inf_as_na', True):\n"
     ]
    },
    {
     "data": {
      "image/png": "[encoded data removed]",
      "text/plain": [
       "<Figure size 1200x700 with 2 Axes>"
      ]
     },
     "metadata": {},
     "output_type": "display_data"
    }
   ],
   "source": [
    "histogram_boxplot(df, 'Age')"
   ]
  },
  {
   "cell_type": "code",
   "execution_count": 20,
   "id": "caab0ddb",
   "metadata": {
    "execution": {
     "iopub.execute_input": "2025-01-28T19:10:25.951389Z",
     "iopub.status.busy": "2025-01-28T19:10:25.951023Z",
     "iopub.status.idle": "2025-01-28T19:10:26.574232Z",
     "shell.execute_reply": "2025-01-28T19:10:26.572991Z"
    },
    "papermill": {
     "duration": 0.653013,
     "end_time": "2025-01-28T19:10:26.576072",
     "exception": false,
     "start_time": "2025-01-28T19:10:25.923059",
     "status": "completed"
    },
    "tags": []
   },
   "outputs": [
    {
     "name": "stderr",
     "output_type": "stream",
     "text": [
      "/usr/local/lib/python3.10/dist-packages/seaborn/_oldcore.py:1119: FutureWarning: use_inf_as_na option is deprecated and will be removed in a future version. Convert inf values to NaN before operating instead.\n",
      "  with pd.option_context('mode.use_inf_as_na', True):\n"
     ]
    },
    {
     "data": {
      "image/png": "[encoded data removed]",
      "text/plain": [
       "<Figure size 1200x700 with 2 Axes>"
      ]
     },
     "metadata": {},
     "output_type": "display_data"
    }
   ],
   "source": [
    "histogram_boxplot(df, 'Fare')"
   ]
  },
  {
   "cell_type": "code",
   "execution_count": 21,
   "id": "3165e137",
   "metadata": {
    "execution": {
     "iopub.execute_input": "2025-01-28T19:10:26.612227Z",
     "iopub.status.busy": "2025-01-28T19:10:26.611824Z",
     "iopub.status.idle": "2025-01-28T19:10:26.616551Z",
     "shell.execute_reply": "2025-01-28T19:10:26.615636Z"
    },
    "papermill": {
     "duration": 0.024661,
     "end_time": "2025-01-28T19:10:26.618144",
     "exception": false,
     "start_time": "2025-01-28T19:10:26.593483",
     "status": "completed"
    },
    "tags": []
   },
   "outputs": [],
   "source": [
    "numerical = df.select_dtypes(include=['number'])"
   ]
  },
  {
   "cell_type": "code",
   "execution_count": 22,
   "id": "6cdce5f5",
   "metadata": {
    "execution": {
     "iopub.execute_input": "2025-01-28T19:10:26.652753Z",
     "iopub.status.busy": "2025-01-28T19:10:26.652376Z",
     "iopub.status.idle": "2025-01-28T19:10:27.073269Z",
     "shell.execute_reply": "2025-01-28T19:10:27.072109Z"
    },
    "papermill": {
     "duration": 0.440328,
     "end_time": "2025-01-28T19:10:27.075152",
     "exception": false,
     "start_time": "2025-01-28T19:10:26.634824",
     "status": "completed"
    },
    "tags": []
   },
   "outputs": [
    {
     "data": {
      "image/png": "[encoded data removed]",
      "text/plain": [
       "<Figure size 640x480 with 2 Axes>"
      ]
     },
     "metadata": {},
     "output_type": "display_data"
    }
   ],
   "source": [
    "sns.heatmap(data = numerical.corr(),annot=True,vmin=-1,vmax=1);"
   ]
  },
  {
   "cell_type": "code",
   "execution_count": 23,
   "id": "c1c9676c",
   "metadata": {
    "execution": {
     "iopub.execute_input": "2025-01-28T19:10:27.113379Z",
     "iopub.status.busy": "2025-01-28T19:10:27.112993Z",
     "iopub.status.idle": "2025-01-28T19:10:27.257089Z",
     "shell.execute_reply": "2025-01-28T19:10:27.256127Z"
    },
    "papermill": {
     "duration": 0.165195,
     "end_time": "2025-01-28T19:10:27.259015",
     "exception": false,
     "start_time": "2025-01-28T19:10:27.093820",
     "status": "completed"
    },
    "tags": []
   },
   "outputs": [
    {
     "data": {
      "image/png": "[encoded data removed]",
      "text/plain": [
       "<Figure size 640x480 with 1 Axes>"
      ]
     },
     "metadata": {},
     "output_type": "display_data"
    }
   ],
   "source": [
    "sns.boxplot(df, x = 'Survived', y = \"Fare\");"
   ]
  },
  {
   "cell_type": "code",
   "execution_count": 24,
   "id": "fa70eee0",
   "metadata": {
    "execution": {
     "iopub.execute_input": "2025-01-28T19:10:27.297183Z",
     "iopub.status.busy": "2025-01-28T19:10:27.296742Z",
     "iopub.status.idle": "2025-01-28T19:10:27.303791Z",
     "shell.execute_reply": "2025-01-28T19:10:27.302704Z"
    },
    "papermill": {
     "duration": 0.028121,
     "end_time": "2025-01-28T19:10:27.305615",
     "exception": false,
     "start_time": "2025-01-28T19:10:27.277494",
     "status": "completed"
    },
    "tags": []
   },
   "outputs": [],
   "source": [
    "def stacked_barplot(data, predictor, target):\n",
    "    \"\"\"\n",
    "    Print the category counts and plot a stacked bar chart\n",
    "\n",
    "    data: dataframe\n",
    "    predictor: independent variable\n",
    "    target: target variable\n",
    "    \"\"\"\n",
    "    count = data[predictor].nunique()\n",
    "    sorter = data[target].value_counts().index[-1]\n",
    "    tab1 = pd.crosstab(data[predictor], data[target], margins=True).sort_values(\n",
    "        by=sorter, ascending=False\n",
    "    )\n",
    "    print(tab1)\n",
    "    print(\"-\" * 120)\n",
    "    tab = pd.crosstab(data[predictor], data[target], normalize=\"index\").sort_values(\n",
    "        by=sorter, ascending=False\n",
    "    )\n",
    "    tab.plot(kind=\"bar\", stacked=True, figsize=(count + 5, 6))\n",
    "    plt.legend(\n",
    "        loc=\"lower left\", frameon=False,\n",
    "    )\n",
    "    plt.legend(loc=\"upper left\", bbox_to_anchor=(1, 1))\n",
    "    plt.show()"
   ]
  },
  {
   "cell_type": "code",
   "execution_count": 25,
   "id": "23301ca0",
   "metadata": {
    "execution": {
     "iopub.execute_input": "2025-01-28T19:10:27.343707Z",
     "iopub.status.busy": "2025-01-28T19:10:27.343368Z",
     "iopub.status.idle": "2025-01-28T19:10:27.611769Z",
     "shell.execute_reply": "2025-01-28T19:10:27.610594Z"
    },
    "papermill": {
     "duration": 0.28955,
     "end_time": "2025-01-28T19:10:27.613601",
     "exception": false,
     "start_time": "2025-01-28T19:10:27.324051",
     "status": "completed"
    },
    "tags": []
   },
   "outputs": [
    {
     "name": "stdout",
     "output_type": "stream",
     "text": [
      "Survived    0    1  All\n",
      "Pclass                 \n",
      "All       549  342  891\n",
      "1          80  136  216\n",
      "3         372  119  491\n",
      "2          97   87  184\n",
      "------------------------------------------------------------------------------------------------------------------------\n"
     ]
    },
    {
     "data": {
      "image/png": "[encoded data removed]",
      "text/plain": [
       "<Figure size 800x600 with 1 Axes>"
      ]
     },
     "metadata": {},
     "output_type": "display_data"
    }
   ],
   "source": [
    "stacked_barplot(df,'Pclass' ,'Survived')"
   ]
  },
  {
   "cell_type": "code",
   "execution_count": 26,
   "id": "95266a18",
   "metadata": {
    "execution": {
     "iopub.execute_input": "2025-01-28T19:10:27.652623Z",
     "iopub.status.busy": "2025-01-28T19:10:27.652290Z",
     "iopub.status.idle": "2025-01-28T19:10:27.841799Z",
     "shell.execute_reply": "2025-01-28T19:10:27.840675Z"
    },
    "papermill": {
     "duration": 0.210985,
     "end_time": "2025-01-28T19:10:27.843404",
     "exception": false,
     "start_time": "2025-01-28T19:10:27.632419",
     "status": "completed"
    },
    "tags": []
   },
   "outputs": [
    {
     "name": "stdout",
     "output_type": "stream",
     "text": [
      "Survived    0    1  All\n",
      "Sex                    \n",
      "All       549  342  891\n",
      "female     81  233  314\n",
      "male      468  109  577\n",
      "------------------------------------------------------------------------------------------------------------------------\n"
     ]
    },
    {
     "data": {
      "image/png": "[encoded data removed]",
      "text/plain": [
       "<Figure size 700x600 with 1 Axes>"
      ]
     },
     "metadata": {},
     "output_type": "display_data"
    }
   ],
   "source": [
    "stacked_barplot(df,'Sex' ,'Survived')"
   ]
  },
  {
   "cell_type": "code",
   "execution_count": 27,
   "id": "f1b0584e",
   "metadata": {
    "execution": {
     "iopub.execute_input": "2025-01-28T19:10:27.883993Z",
     "iopub.status.busy": "2025-01-28T19:10:27.883586Z",
     "iopub.status.idle": "2025-01-28T19:10:28.075432Z",
     "shell.execute_reply": "2025-01-28T19:10:28.074236Z"
    },
    "papermill": {
     "duration": 0.214122,
     "end_time": "2025-01-28T19:10:28.077184",
     "exception": false,
     "start_time": "2025-01-28T19:10:27.863062",
     "status": "completed"
    },
    "tags": []
   },
   "outputs": [
    {
     "name": "stdout",
     "output_type": "stream",
     "text": [
      "Sex     female  male  All\n",
      "Pclass                   \n",
      "All        314   577  891\n",
      "3          144   347  491\n",
      "1           94   122  216\n",
      "2           76   108  184\n",
      "------------------------------------------------------------------------------------------------------------------------\n"
     ]
    },
    {
     "data": {
      "image/png": "[encoded data removed]",
      "text/plain": [
       "<Figure size 800x600 with 1 Axes>"
      ]
     },
     "metadata": {},
     "output_type": "display_data"
    }
   ],
   "source": [
    "stacked_barplot(df,'Pclass' ,'Sex')"
   ]
  },
  {
   "cell_type": "code",
   "execution_count": 28,
   "id": "d4faa348",
   "metadata": {
    "execution": {
     "iopub.execute_input": "2025-01-28T19:10:28.117299Z",
     "iopub.status.busy": "2025-01-28T19:10:28.116963Z",
     "iopub.status.idle": "2025-01-28T19:10:28.301722Z",
     "shell.execute_reply": "2025-01-28T19:10:28.300486Z"
    },
    "papermill": {
     "duration": 0.207084,
     "end_time": "2025-01-28T19:10:28.303736",
     "exception": false,
     "start_time": "2025-01-28T19:10:28.096652",
     "status": "completed"
    },
    "tags": []
   },
   "outputs": [
    {
     "name": "stdout",
     "output_type": "stream",
     "text": [
      "Survived    0    1  All\n",
      "Embarked               \n",
      "All       549  340  889\n",
      "S         427  217  644\n",
      "C          75   93  168\n",
      "Q          47   30   77\n",
      "------------------------------------------------------------------------------------------------------------------------\n"
     ]
    },
    {
     "data": {
      "image/png": "[encoded data removed]",
      "text/plain": [
       "<Figure size 800x600 with 1 Axes>"
      ]
     },
     "metadata": {},
     "output_type": "display_data"
    }
   ],
   "source": [
    "stacked_barplot(df,'Embarked' ,'Survived')"
   ]
  },
  {
   "cell_type": "code",
   "execution_count": 29,
   "id": "6061d389",
   "metadata": {
    "execution": {
     "iopub.execute_input": "2025-01-28T19:10:28.346602Z",
     "iopub.status.busy": "2025-01-28T19:10:28.346250Z",
     "iopub.status.idle": "2025-01-28T19:10:29.426420Z",
     "shell.execute_reply": "2025-01-28T19:10:29.425345Z"
    },
    "papermill": {
     "duration": 1.104154,
     "end_time": "2025-01-28T19:10:29.428289",
     "exception": false,
     "start_time": "2025-01-28T19:10:28.324135",
     "status": "completed"
    },
    "tags": []
   },
   "outputs": [
    {
     "name": "stderr",
     "output_type": "stream",
     "text": [
      "/usr/local/lib/python3.10/dist-packages/matplotlib/cbook/__init__.py:1267: RuntimeWarning: invalid value encountered in less_equal\n",
      "  wiskhi = x[x <= hival]\n",
      "/usr/local/lib/python3.10/dist-packages/matplotlib/cbook/__init__.py:1274: RuntimeWarning: invalid value encountered in greater_equal\n",
      "  wisklo = x[x >= loval]\n",
      "/usr/local/lib/python3.10/dist-packages/matplotlib/cbook/__init__.py:1282: RuntimeWarning: invalid value encountered in less\n",
      "  x[x < stats['whislo']],\n",
      "/usr/local/lib/python3.10/dist-packages/matplotlib/cbook/__init__.py:1283: RuntimeWarning: invalid value encountered in greater\n",
      "  x[x > stats['whishi']],\n"
     ]
    },
    {
     "data": {
      "image/png": "[encoded data removed]",
      "text/plain": [
       "<Figure size 640x480 with 7 Axes>"
      ]
     },
     "metadata": {},
     "output_type": "display_data"
    }
   ],
   "source": [
    "for i, variable in enumerate(numerical):\n",
    "    plt.subplot(4, 4, i + 1)\n",
    "    plt.boxplot(df[variable], whis=1.5)\n",
    "    plt.tight_layout()\n",
    "    plt.title(variable)\n",
    "\n",
    "plt.show()"
   ]
  },
  {
   "cell_type": "code",
   "execution_count": 30,
   "id": "03338045",
   "metadata": {
    "execution": {
     "iopub.execute_input": "2025-01-28T19:10:29.470283Z",
     "iopub.status.busy": "2025-01-28T19:10:29.469901Z",
     "iopub.status.idle": "2025-01-28T19:10:29.481623Z",
     "shell.execute_reply": "2025-01-28T19:10:29.480314Z"
    },
    "papermill": {
     "duration": 0.034619,
     "end_time": "2025-01-28T19:10:29.483334",
     "exception": false,
     "start_time": "2025-01-28T19:10:29.448715",
     "status": "completed"
    },
    "tags": []
   },
   "outputs": [
    {
     "name": "stdout",
     "output_type": "stream",
     "text": [
      "<class 'pandas.core.frame.DataFrame'>\n",
      "RangeIndex: 891 entries, 0 to 890\n",
      "Data columns (total 12 columns):\n",
      " #   Column       Non-Null Count  Dtype  \n",
      "---  ------       --------------  -----  \n",
      " 0   PassengerId  891 non-null    int64  \n",
      " 1   Survived     891 non-null    int64  \n",
      " 2   Pclass       891 non-null    int64  \n",
      " 3   Name         891 non-null    object \n",
      " 4   Sex          891 non-null    object \n",
      " 5   Age          714 non-null    float64\n",
      " 6   SibSp        891 non-null    int64  \n",
      " 7   Parch        891 non-null    int64  \n",
      " 8   Ticket       891 non-null    object \n",
      " 9   Fare         891 non-null    float64\n",
      " 10  Cabin        204 non-null    object \n",
      " 11  Embarked     889 non-null    object \n",
      "dtypes: float64(2), int64(5), object(5)\n",
      "memory usage: 83.7+ KB\n"
     ]
    }
   ],
   "source": [
    "df.info()"
   ]
  },
  {
   "cell_type": "code",
   "execution_count": 31,
   "id": "024bdaf2",
   "metadata": {
    "execution": {
     "iopub.execute_input": "2025-01-28T19:10:29.525785Z",
     "iopub.status.busy": "2025-01-28T19:10:29.525446Z",
     "iopub.status.idle": "2025-01-28T19:10:29.529336Z",
     "shell.execute_reply": "2025-01-28T19:10:29.528443Z"
    },
    "papermill": {
     "duration": 0.027102,
     "end_time": "2025-01-28T19:10:29.531003",
     "exception": false,
     "start_time": "2025-01-28T19:10:29.503901",
     "status": "completed"
    },
    "tags": []
   },
   "outputs": [],
   "source": [
    "#df = df.drop('Name', axis = 1)"
   ]
  },
  {
   "cell_type": "code",
   "execution_count": 32,
   "id": "61243f48",
   "metadata": {
    "execution": {
     "iopub.execute_input": "2025-01-28T19:10:29.573652Z",
     "iopub.status.busy": "2025-01-28T19:10:29.573292Z",
     "iopub.status.idle": "2025-01-28T19:10:29.578691Z",
     "shell.execute_reply": "2025-01-28T19:10:29.577714Z"
    },
    "papermill": {
     "duration": 0.028726,
     "end_time": "2025-01-28T19:10:29.580348",
     "exception": false,
     "start_time": "2025-01-28T19:10:29.551622",
     "status": "completed"
    },
    "tags": []
   },
   "outputs": [],
   "source": [
    "df = df.drop(['Name', 'Ticket', 'Cabin'], axis = 1)"
   ]
  },
  {
   "cell_type": "code",
   "execution_count": 33,
   "id": "3d90ca20",
   "metadata": {
    "execution": {
     "iopub.execute_input": "2025-01-28T19:10:29.622511Z",
     "iopub.status.busy": "2025-01-28T19:10:29.622152Z",
     "iopub.status.idle": "2025-01-28T19:10:29.627651Z",
     "shell.execute_reply": "2025-01-28T19:10:29.626588Z"
    },
    "papermill": {
     "duration": 0.028772,
     "end_time": "2025-01-28T19:10:29.629442",
     "exception": false,
     "start_time": "2025-01-28T19:10:29.600670",
     "status": "completed"
    },
    "tags": []
   },
   "outputs": [],
   "source": [
    "df = df.drop(['SibSp', 'Parch'], axis = 1)"
   ]
  },
  {
   "cell_type": "code",
   "execution_count": 34,
   "id": "e5183786",
   "metadata": {
    "execution": {
     "iopub.execute_input": "2025-01-28T19:10:29.673491Z",
     "iopub.status.busy": "2025-01-28T19:10:29.673103Z",
     "iopub.status.idle": "2025-01-28T19:10:29.686150Z",
     "shell.execute_reply": "2025-01-28T19:10:29.685096Z"
    },
    "papermill": {
     "duration": 0.037299,
     "end_time": "2025-01-28T19:10:29.687915",
     "exception": false,
     "start_time": "2025-01-28T19:10:29.650616",
     "status": "completed"
    },
    "tags": []
   },
   "outputs": [
    {
     "data": {
      "text/html": [
       "<div>\n",
       "<style scoped>\n",
       "    .dataframe tbody tr th:only-of-type {\n",
       "        vertical-align: middle;\n",
       "    }\n",
       "\n",
       "    .dataframe tbody tr th {\n",
       "        vertical-align: top;\n",
       "    }\n",
       "\n",
       "    .dataframe thead th {\n",
       "        text-align: right;\n",
       "    }\n",
       "</style>\n",
       "<table border=\"1\" class=\"dataframe\">\n",
       "  <thead>\n",
       "    <tr style=\"text-align: right;\">\n",
       "      <th></th>\n",
       "      <th>PassengerId</th>\n",
       "      <th>Survived</th>\n",
       "      <th>Pclass</th>\n",
       "      <th>Sex</th>\n",
       "      <th>Age</th>\n",
       "      <th>Fare</th>\n",
       "      <th>Embarked</th>\n",
       "    </tr>\n",
       "  </thead>\n",
       "  <tbody>\n",
       "    <tr>\n",
       "      <th>0</th>\n",
       "      <td>1</td>\n",
       "      <td>0</td>\n",
       "      <td>3</td>\n",
       "      <td>male</td>\n",
       "      <td>22.0</td>\n",
       "      <td>7.2500</td>\n",
       "      <td>S</td>\n",
       "    </tr>\n",
       "    <tr>\n",
       "      <th>1</th>\n",
       "      <td>2</td>\n",
       "      <td>1</td>\n",
       "      <td>1</td>\n",
       "      <td>female</td>\n",
       "      <td>38.0</td>\n",
       "      <td>71.2833</td>\n",
       "      <td>C</td>\n",
       "    </tr>\n",
       "    <tr>\n",
       "      <th>2</th>\n",
       "      <td>3</td>\n",
       "      <td>1</td>\n",
       "      <td>3</td>\n",
       "      <td>female</td>\n",
       "      <td>26.0</td>\n",
       "      <td>7.9250</td>\n",
       "      <td>S</td>\n",
       "    </tr>\n",
       "    <tr>\n",
       "      <th>3</th>\n",
       "      <td>4</td>\n",
       "      <td>1</td>\n",
       "      <td>1</td>\n",
       "      <td>female</td>\n",
       "      <td>35.0</td>\n",
       "      <td>53.1000</td>\n",
       "      <td>S</td>\n",
       "    </tr>\n",
       "    <tr>\n",
       "      <th>4</th>\n",
       "      <td>5</td>\n",
       "      <td>0</td>\n",
       "      <td>3</td>\n",
       "      <td>male</td>\n",
       "      <td>35.0</td>\n",
       "      <td>8.0500</td>\n",
       "      <td>S</td>\n",
       "    </tr>\n",
       "  </tbody>\n",
       "</table>\n",
       "</div>"
      ],
      "text/plain": [
       "   PassengerId  Survived  Pclass     Sex   Age     Fare Embarked\n",
       "0            1         0       3    male  22.0   7.2500        S\n",
       "1            2         1       1  female  38.0  71.2833        C\n",
       "2            3         1       3  female  26.0   7.9250        S\n",
       "3            4         1       1  female  35.0  53.1000        S\n",
       "4            5         0       3    male  35.0   8.0500        S"
      ]
     },
     "execution_count": 34,
     "metadata": {},
     "output_type": "execute_result"
    }
   ],
   "source": [
    "df.head()"
   ]
  },
  {
   "cell_type": "code",
   "execution_count": 35,
   "id": "fd11f766",
   "metadata": {
    "execution": {
     "iopub.execute_input": "2025-01-28T19:10:29.730360Z",
     "iopub.status.busy": "2025-01-28T19:10:29.729985Z",
     "iopub.status.idle": "2025-01-28T19:10:29.735525Z",
     "shell.execute_reply": "2025-01-28T19:10:29.734454Z"
    },
    "papermill": {
     "duration": 0.02876,
     "end_time": "2025-01-28T19:10:29.737263",
     "exception": false,
     "start_time": "2025-01-28T19:10:29.708503",
     "status": "completed"
    },
    "tags": []
   },
   "outputs": [],
   "source": [
    "X = df.drop('Survived', axis=1)\n",
    "y = df['Survived']"
   ]
  },
  {
   "cell_type": "code",
   "execution_count": 36,
   "id": "30259c46",
   "metadata": {
    "execution": {
     "iopub.execute_input": "2025-01-28T19:10:29.781431Z",
     "iopub.status.busy": "2025-01-28T19:10:29.780908Z",
     "iopub.status.idle": "2025-01-28T19:10:29.799819Z",
     "shell.execute_reply": "2025-01-28T19:10:29.798750Z"
    },
    "papermill": {
     "duration": 0.043385,
     "end_time": "2025-01-28T19:10:29.801739",
     "exception": false,
     "start_time": "2025-01-28T19:10:29.758354",
     "status": "completed"
    },
    "tags": []
   },
   "outputs": [
    {
     "data": {
      "text/html": [
       "<div>\n",
       "<style scoped>\n",
       "    .dataframe tbody tr th:only-of-type {\n",
       "        vertical-align: middle;\n",
       "    }\n",
       "\n",
       "    .dataframe tbody tr th {\n",
       "        vertical-align: top;\n",
       "    }\n",
       "\n",
       "    .dataframe thead th {\n",
       "        text-align: right;\n",
       "    }\n",
       "</style>\n",
       "<table border=\"1\" class=\"dataframe\">\n",
       "  <thead>\n",
       "    <tr style=\"text-align: right;\">\n",
       "      <th></th>\n",
       "      <th>PassengerId</th>\n",
       "      <th>Pclass</th>\n",
       "      <th>Age</th>\n",
       "      <th>Fare</th>\n",
       "      <th>Sex_male</th>\n",
       "      <th>Embarked_Q</th>\n",
       "      <th>Embarked_S</th>\n",
       "    </tr>\n",
       "  </thead>\n",
       "  <tbody>\n",
       "    <tr>\n",
       "      <th>0</th>\n",
       "      <td>1</td>\n",
       "      <td>3</td>\n",
       "      <td>22.0</td>\n",
       "      <td>7.2500</td>\n",
       "      <td>True</td>\n",
       "      <td>False</td>\n",
       "      <td>True</td>\n",
       "    </tr>\n",
       "    <tr>\n",
       "      <th>1</th>\n",
       "      <td>2</td>\n",
       "      <td>1</td>\n",
       "      <td>38.0</td>\n",
       "      <td>71.2833</td>\n",
       "      <td>False</td>\n",
       "      <td>False</td>\n",
       "      <td>False</td>\n",
       "    </tr>\n",
       "    <tr>\n",
       "      <th>2</th>\n",
       "      <td>3</td>\n",
       "      <td>3</td>\n",
       "      <td>26.0</td>\n",
       "      <td>7.9250</td>\n",
       "      <td>False</td>\n",
       "      <td>False</td>\n",
       "      <td>True</td>\n",
       "    </tr>\n",
       "    <tr>\n",
       "      <th>3</th>\n",
       "      <td>4</td>\n",
       "      <td>1</td>\n",
       "      <td>35.0</td>\n",
       "      <td>53.1000</td>\n",
       "      <td>False</td>\n",
       "      <td>False</td>\n",
       "      <td>True</td>\n",
       "    </tr>\n",
       "    <tr>\n",
       "      <th>4</th>\n",
       "      <td>5</td>\n",
       "      <td>3</td>\n",
       "      <td>35.0</td>\n",
       "      <td>8.0500</td>\n",
       "      <td>True</td>\n",
       "      <td>False</td>\n",
       "      <td>True</td>\n",
       "    </tr>\n",
       "  </tbody>\n",
       "</table>\n",
       "</div>"
      ],
      "text/plain": [
       "   PassengerId  Pclass   Age     Fare  Sex_male  Embarked_Q  Embarked_S\n",
       "0            1       3  22.0   7.2500      True       False        True\n",
       "1            2       1  38.0  71.2833     False       False       False\n",
       "2            3       3  26.0   7.9250     False       False        True\n",
       "3            4       1  35.0  53.1000     False       False        True\n",
       "4            5       3  35.0   8.0500      True       False        True"
      ]
     },
     "execution_count": 36,
     "metadata": {},
     "output_type": "execute_result"
    }
   ],
   "source": [
    "X = pd.get_dummies(X, drop_first = True)\n",
    "X.head()"
   ]
  },
  {
   "cell_type": "code",
   "execution_count": 37,
   "id": "24cf6410",
   "metadata": {
    "execution": {
     "iopub.execute_input": "2025-01-28T19:10:29.845303Z",
     "iopub.status.busy": "2025-01-28T19:10:29.844831Z",
     "iopub.status.idle": "2025-01-28T19:10:30.154098Z",
     "shell.execute_reply": "2025-01-28T19:10:30.152878Z"
    },
    "papermill": {
     "duration": 0.333332,
     "end_time": "2025-01-28T19:10:30.156158",
     "exception": false,
     "start_time": "2025-01-28T19:10:29.822826",
     "status": "completed"
    },
    "tags": []
   },
   "outputs": [],
   "source": [
    "from sklearn.model_selection import train_test_split\n",
    "X_train, X_val, y_train, y_val = train_test_split(X, y, test_size=0.3, random_state=1,stratify=y)"
   ]
  },
  {
   "cell_type": "code",
   "execution_count": 38,
   "id": "ced5cd6d",
   "metadata": {
    "execution": {
     "iopub.execute_input": "2025-01-28T19:10:30.199601Z",
     "iopub.status.busy": "2025-01-28T19:10:30.199259Z",
     "iopub.status.idle": "2025-01-28T19:10:30.205375Z",
     "shell.execute_reply": "2025-01-28T19:10:30.204193Z"
    },
    "papermill": {
     "duration": 0.029874,
     "end_time": "2025-01-28T19:10:30.207082",
     "exception": false,
     "start_time": "2025-01-28T19:10:30.177208",
     "status": "completed"
    },
    "tags": []
   },
   "outputs": [
    {
     "name": "stdout",
     "output_type": "stream",
     "text": [
      "Number of rows in train data = (623, 7)\n",
      "Number of rows in val data = (268, 7)\n"
     ]
    }
   ],
   "source": [
    "print(\"Number of rows in train data =\", X_train.shape)\n",
    "print(\"Number of rows in val data =\", X_val.shape)"
   ]
  },
  {
   "cell_type": "code",
   "execution_count": 39,
   "id": "e959299d",
   "metadata": {
    "execution": {
     "iopub.execute_input": "2025-01-28T19:10:30.250113Z",
     "iopub.status.busy": "2025-01-28T19:10:30.249722Z",
     "iopub.status.idle": "2025-01-28T19:10:30.619273Z",
     "shell.execute_reply": "2025-01-28T19:10:30.618349Z"
    },
    "papermill": {
     "duration": 0.39309,
     "end_time": "2025-01-28T19:10:30.621164",
     "exception": false,
     "start_time": "2025-01-28T19:10:30.228074",
     "status": "completed"
    },
    "tags": []
   },
   "outputs": [],
   "source": [
    "from sklearn.impute import SimpleImputer\n",
    "imputer = SimpleImputer(strategy = 'median')"
   ]
  },
  {
   "cell_type": "code",
   "execution_count": 40,
   "id": "67173443",
   "metadata": {
    "execution": {
     "iopub.execute_input": "2025-01-28T19:10:30.664979Z",
     "iopub.status.busy": "2025-01-28T19:10:30.664476Z",
     "iopub.status.idle": "2025-01-28T19:10:30.677146Z",
     "shell.execute_reply": "2025-01-28T19:10:30.676140Z"
    },
    "papermill": {
     "duration": 0.036385,
     "end_time": "2025-01-28T19:10:30.679012",
     "exception": false,
     "start_time": "2025-01-28T19:10:30.642627",
     "status": "completed"
    },
    "tags": []
   },
   "outputs": [],
   "source": [
    "X_train = pd.DataFrame(imputer.fit_transform(X_train), columns=X_train.columns)\n",
    "X_val = pd.DataFrame(imputer.transform(X_val), columns=X_train.columns)"
   ]
  },
  {
   "cell_type": "code",
   "execution_count": 41,
   "id": "f9e53cfa",
   "metadata": {
    "execution": {
     "iopub.execute_input": "2025-01-28T19:10:30.722881Z",
     "iopub.status.busy": "2025-01-28T19:10:30.722488Z",
     "iopub.status.idle": "2025-01-28T19:10:30.730061Z",
     "shell.execute_reply": "2025-01-28T19:10:30.729042Z"
    },
    "papermill": {
     "duration": 0.031388,
     "end_time": "2025-01-28T19:10:30.731732",
     "exception": false,
     "start_time": "2025-01-28T19:10:30.700344",
     "status": "completed"
    },
    "tags": []
   },
   "outputs": [
    {
     "data": {
      "text/plain": [
       "PassengerId    0\n",
       "Pclass         0\n",
       "Age            0\n",
       "Fare           0\n",
       "Sex_male       0\n",
       "Embarked_Q     0\n",
       "Embarked_S     0\n",
       "dtype: int64"
      ]
     },
     "execution_count": 41,
     "metadata": {},
     "output_type": "execute_result"
    }
   ],
   "source": [
    "X_train.isnull().sum()"
   ]
  },
  {
   "cell_type": "code",
   "execution_count": 42,
   "id": "bddbf3da",
   "metadata": {
    "execution": {
     "iopub.execute_input": "2025-01-28T19:10:30.834861Z",
     "iopub.status.busy": "2025-01-28T19:10:30.834455Z",
     "iopub.status.idle": "2025-01-28T19:10:30.838866Z",
     "shell.execute_reply": "2025-01-28T19:10:30.837746Z"
    },
    "papermill": {
     "duration": 0.028264,
     "end_time": "2025-01-28T19:10:30.840464",
     "exception": false,
     "start_time": "2025-01-28T19:10:30.812200",
     "status": "completed"
    },
    "tags": []
   },
   "outputs": [],
   "source": [
    "from sklearn.metrics import confusion_matrix, classification_report, accuracy_score, precision_score, recall_score, f1_score, roc_auc_score"
   ]
  },
  {
   "cell_type": "code",
   "execution_count": 43,
   "id": "354dedcf",
   "metadata": {
    "execution": {
     "iopub.execute_input": "2025-01-28T19:10:30.883403Z",
     "iopub.status.busy": "2025-01-28T19:10:30.883065Z",
     "iopub.status.idle": "2025-01-28T19:10:30.888591Z",
     "shell.execute_reply": "2025-01-28T19:10:30.887590Z"
    },
    "papermill": {
     "duration": 0.028842,
     "end_time": "2025-01-28T19:10:30.890285",
     "exception": false,
     "start_time": "2025-01-28T19:10:30.861443",
     "status": "completed"
    },
    "tags": []
   },
   "outputs": [],
   "source": [
    "def model_performance_classification_sklearn(model, predictors, target):\n",
    "    \"\"\"\n",
    "    Function to compute different metrics to check classification model performance\n",
    "\n",
    "    model: classifier\n",
    "    predictors: independent variables\n",
    "    target: dependent variable\n",
    "    \"\"\"\n",
    "\n",
    "    # predicting using the independent variables\n",
    "    pred = model.predict(predictors)\n",
    "\n",
    "    acc = accuracy_score(target, pred)  # to compute Accuracy\n",
    "    recall = recall_score(target, pred)  # to compute Recall\n",
    "    precision = precision_score(target, pred)  # to compute Precision\n",
    "    f1 = f1_score(target, pred)  # to compute F1-score\n",
    "\n",
    "    # creating a dataframe of metrics\n",
    "    df_perf = pd.DataFrame(\n",
    "        {\"Accuracy\": acc, \"Recall\": recall, \"Precision\": precision, \"F1\": f1,},\n",
    "        index=[0],\n",
    "    )\n",
    "\n",
    "    return df_perf"
   ]
  },
  {
   "cell_type": "code",
   "execution_count": 44,
   "id": "3684341a",
   "metadata": {
    "execution": {
     "iopub.execute_input": "2025-01-28T19:10:30.934400Z",
     "iopub.status.busy": "2025-01-28T19:10:30.934035Z",
     "iopub.status.idle": "2025-01-28T19:10:30.939753Z",
     "shell.execute_reply": "2025-01-28T19:10:30.938785Z"
    },
    "papermill": {
     "duration": 0.029437,
     "end_time": "2025-01-28T19:10:30.941427",
     "exception": false,
     "start_time": "2025-01-28T19:10:30.911990",
     "status": "completed"
    },
    "tags": []
   },
   "outputs": [],
   "source": [
    "def confusion_matrix_sklearn(model, predictors, target):\n",
    "    \"\"\"\n",
    "    To plot the confusion_matrix with percentages\n",
    "\n",
    "    model: classifier\n",
    "    predictors: independent variables\n",
    "    target: dependent variable\n",
    "    \"\"\"\n",
    "    y_pred = model.predict(predictors)\n",
    "    cm = confusion_matrix(target, y_pred)\n",
    "    labels = np.asarray(\n",
    "        [\n",
    "            [\"{0:0.0f}\".format(item) + \"\\n{0:.2%}\".format(item / cm.flatten().sum())]\n",
    "            for item in cm.flatten()\n",
    "        ]\n",
    "    ).reshape(2, 2)\n",
    "\n",
    "    plt.figure(figsize=(6, 4))\n",
    "    sns.heatmap(cm, annot=labels, fmt=\"\")\n",
    "    plt.ylabel(\"True label\")\n",
    "    plt.xlabel(\"Predicted label\")"
   ]
  },
  {
   "cell_type": "code",
   "execution_count": 45,
   "id": "1466e192",
   "metadata": {
    "execution": {
     "iopub.execute_input": "2025-01-28T19:10:30.985193Z",
     "iopub.status.busy": "2025-01-28T19:10:30.984757Z",
     "iopub.status.idle": "2025-01-28T19:10:31.031144Z",
     "shell.execute_reply": "2025-01-28T19:10:31.030055Z"
    },
    "papermill": {
     "duration": 0.070295,
     "end_time": "2025-01-28T19:10:31.033123",
     "exception": false,
     "start_time": "2025-01-28T19:10:30.962828",
     "status": "completed"
    },
    "tags": []
   },
   "outputs": [],
   "source": [
    "from sklearn.tree import DecisionTreeClassifier"
   ]
  },
  {
   "cell_type": "code",
   "execution_count": 46,
   "id": "37f7c213",
   "metadata": {
    "execution": {
     "iopub.execute_input": "2025-01-28T19:10:31.076238Z",
     "iopub.status.busy": "2025-01-28T19:10:31.075784Z",
     "iopub.status.idle": "2025-01-28T19:10:31.110486Z",
     "shell.execute_reply": "2025-01-28T19:10:31.109211Z"
    },
    "papermill": {
     "duration": 0.058406,
     "end_time": "2025-01-28T19:10:31.112365",
     "exception": false,
     "start_time": "2025-01-28T19:10:31.053959",
     "status": "completed"
    },
    "tags": []
   },
   "outputs": [
    {
     "name": "stdout",
     "output_type": "stream",
     "text": [
      "Training performance:\n",
      "    Accuracy  Recall  Precision   F1\n",
      "0       1.0     1.0        1.0  1.0\n",
      "Val performance:\n",
      "    Accuracy    Recall  Precision        F1\n",
      "0  0.735075  0.640777       0.66  0.650246\n"
     ]
    }
   ],
   "source": [
    "#Fitting the model\n",
    "d_tree = DecisionTreeClassifier(random_state=1)\n",
    "d_tree.fit(X_train,y_train)\n",
    "\n",
    "#Calculating different metrics\n",
    "d_tree_model_train_perf=model_performance_classification_sklearn(d_tree,X_train,y_train)\n",
    "print(\"Training performance:\\n\",d_tree_model_train_perf)\n",
    "d_tree_model_train_perf=model_performance_classification_sklearn(d_tree,X_val,y_val)\n",
    "print(\"Val performance:\\n\",d_tree_model_train_perf)"
   ]
  },
  {
   "cell_type": "code",
   "execution_count": 47,
   "id": "723e6907",
   "metadata": {
    "execution": {
     "iopub.execute_input": "2025-01-28T19:10:31.156242Z",
     "iopub.status.busy": "2025-01-28T19:10:31.155820Z",
     "iopub.status.idle": "2025-01-28T19:10:31.160337Z",
     "shell.execute_reply": "2025-01-28T19:10:31.159388Z"
    },
    "papermill": {
     "duration": 0.02839,
     "end_time": "2025-01-28T19:10:31.161908",
     "exception": false,
     "start_time": "2025-01-28T19:10:31.133518",
     "status": "completed"
    },
    "tags": []
   },
   "outputs": [],
   "source": [
    "from sklearn import metrics\n",
    "from sklearn.metrics import confusion_matrix, classification_report, accuracy_score, precision_score, recall_score, f1_score, roc_auc_score\n",
    "from sklearn.model_selection import GridSearchCV"
   ]
  },
  {
   "cell_type": "code",
   "execution_count": 48,
   "id": "f1b7e8e9",
   "metadata": {
    "execution": {
     "iopub.execute_input": "2025-01-28T19:10:31.205673Z",
     "iopub.status.busy": "2025-01-28T19:10:31.205313Z",
     "iopub.status.idle": "2025-01-28T19:11:59.189533Z",
     "shell.execute_reply": "2025-01-28T19:11:59.188298Z"
    },
    "papermill": {
     "duration": 88.031128,
     "end_time": "2025-01-28T19:11:59.214127",
     "exception": false,
     "start_time": "2025-01-28T19:10:31.182999",
     "status": "completed"
    },
    "tags": []
   },
   "outputs": [
    {
     "data": {
      "text/html": [
       "<style>#sk-container-id-1 {color: black;background-color: white;}#sk-container-id-1 pre{padding: 0;}#sk-container-id-1 div.sk-toggleable {background-color: white;}#sk-container-id-1 label.sk-toggleable__label {cursor: pointer;display: block;width: 100%;margin-bottom: 0;padding: 0.3em;box-sizing: border-box;text-align: center;}#sk-container-id-1 label.sk-toggleable__label-arrow:before {content: \"▸\";float: left;margin-right: 0.25em;color: #696969;}#sk-container-id-1 label.sk-toggleable__label-arrow:hover:before {color: black;}#sk-container-id-1 div.sk-estimator:hover label.sk-toggleable__label-arrow:before {color: black;}#sk-container-id-1 div.sk-toggleable__content {max-height: 0;max-width: 0;overflow: hidden;text-align: left;background-color: #f0f8ff;}#sk-container-id-1 div.sk-toggleable__content pre {margin: 0.2em;color: black;border-radius: 0.25em;background-color: #f0f8ff;}#sk-container-id-1 input.sk-toggleable__control:checked~div.sk-toggleable__content {max-height: 200px;max-width: 100%;overflow: auto;}#sk-container-id-1 input.sk-toggleable__control:checked~label.sk-toggleable__label-arrow:before {content: \"▾\";}#sk-container-id-1 div.sk-estimator input.sk-toggleable__control:checked~label.sk-toggleable__label {background-color: #d4ebff;}#sk-container-id-1 div.sk-label input.sk-toggleable__control:checked~label.sk-toggleable__label {background-color: #d4ebff;}#sk-container-id-1 input.sk-hidden--visually {border: 0;clip: rect(1px 1px 1px 1px);clip: rect(1px, 1px, 1px, 1px);height: 1px;margin: -1px;overflow: hidden;padding: 0;position: absolute;width: 1px;}#sk-container-id-1 div.sk-estimator {font-family: monospace;background-color: #f0f8ff;border: 1px dotted black;border-radius: 0.25em;box-sizing: border-box;margin-bottom: 0.5em;}#sk-container-id-1 div.sk-estimator:hover {background-color: #d4ebff;}#sk-container-id-1 div.sk-parallel-item::after {content: \"\";width: 100%;border-bottom: 1px solid gray;flex-grow: 1;}#sk-container-id-1 div.sk-label:hover label.sk-toggleable__label {background-color: #d4ebff;}#sk-container-id-1 div.sk-serial::before {content: \"\";position: absolute;border-left: 1px solid gray;box-sizing: border-box;top: 0;bottom: 0;left: 50%;z-index: 0;}#sk-container-id-1 div.sk-serial {display: flex;flex-direction: column;align-items: center;background-color: white;padding-right: 0.2em;padding-left: 0.2em;position: relative;}#sk-container-id-1 div.sk-item {position: relative;z-index: 1;}#sk-container-id-1 div.sk-parallel {display: flex;align-items: stretch;justify-content: center;background-color: white;position: relative;}#sk-container-id-1 div.sk-item::before, #sk-container-id-1 div.sk-parallel-item::before {content: \"\";position: absolute;border-left: 1px solid gray;box-sizing: border-box;top: 0;bottom: 0;left: 50%;z-index: -1;}#sk-container-id-1 div.sk-parallel-item {display: flex;flex-direction: column;z-index: 1;position: relative;background-color: white;}#sk-container-id-1 div.sk-parallel-item:first-child::after {align-self: flex-end;width: 50%;}#sk-container-id-1 div.sk-parallel-item:last-child::after {align-self: flex-start;width: 50%;}#sk-container-id-1 div.sk-parallel-item:only-child::after {width: 0;}#sk-container-id-1 div.sk-dashed-wrapped {border: 1px dashed gray;margin: 0 0.4em 0.5em 0.4em;box-sizing: border-box;padding-bottom: 0.4em;background-color: white;}#sk-container-id-1 div.sk-label label {font-family: monospace;font-weight: bold;display: inline-block;line-height: 1.2em;}#sk-container-id-1 div.sk-label-container {text-align: center;}#sk-container-id-1 div.sk-container {/* jupyter's `normalize.less` sets `[hidden] { display: none; }` but bootstrap.min.css set `[hidden] { display: none !important; }` so we also need the `!important` here to be able to override the default hidden behavior on the sphinx rendered scikit-learn.org. See: https://github.com/scikit-learn/scikit-learn/issues/21755 */display: inline-block !important;position: relative;}#sk-container-id-1 div.sk-text-repr-fallback {display: none;}</style><div id=\"sk-container-id-1\" class=\"sk-top-container\"><div class=\"sk-text-repr-fallback\"><pre>DecisionTreeClassifier(ccp_alpha=0.0001, class_weight=&#x27;balanced&#x27;,\n",
       "                       criterion=&#x27;entropy&#x27;, max_depth=5, max_leaf_nodes=12,\n",
       "                       min_impurity_decrease=0.0001, min_samples_leaf=15,\n",
       "                       min_samples_split=10, random_state=1)</pre><b>In a Jupyter environment, please rerun this cell to show the HTML representation or trust the notebook. <br />On GitHub, the HTML representation is unable to render, please try loading this page with nbviewer.org.</b></div><div class=\"sk-container\" hidden><div class=\"sk-item\"><div class=\"sk-estimator sk-toggleable\"><input class=\"sk-toggleable__control sk-hidden--visually\" id=\"sk-estimator-id-1\" type=\"checkbox\" checked><label for=\"sk-estimator-id-1\" class=\"sk-toggleable__label sk-toggleable__label-arrow\">DecisionTreeClassifier</label><div class=\"sk-toggleable__content\"><pre>DecisionTreeClassifier(ccp_alpha=0.0001, class_weight=&#x27;balanced&#x27;,\n",
       "                       criterion=&#x27;entropy&#x27;, max_depth=5, max_leaf_nodes=12,\n",
       "                       min_impurity_decrease=0.0001, min_samples_leaf=15,\n",
       "                       min_samples_split=10, random_state=1)</pre></div></div></div></div></div>"
      ],
      "text/plain": [
       "DecisionTreeClassifier(ccp_alpha=0.0001, class_weight='balanced',\n",
       "                       criterion='entropy', max_depth=5, max_leaf_nodes=12,\n",
       "                       min_impurity_decrease=0.0001, min_samples_leaf=15,\n",
       "                       min_samples_split=10, random_state=1)"
      ]
     },
     "execution_count": 48,
     "metadata": {},
     "output_type": "execute_result"
    }
   ],
   "source": [
    "#Choose the type of classifier.\n",
    "dtree_estimator = DecisionTreeClassifier(random_state=1)\n",
    "\n",
    "# Grid of parameters to choose from\n",
    "parameters = {\n",
    "    'criterion': ['gini', 'entropy'],\n",
    "    'class_weight' : ['balanced'],\n",
    "    'max_depth': np.arange(2,8),\n",
    "    'min_samples_leaf': [15,20,25],\n",
    "    'max_leaf_nodes' : [10,12,14,16],\n",
    "    'min_samples_split': [10, 15, 20],\n",
    "    'min_impurity_decrease': [0.0001,0.001],\n",
    "    'ccp_alpha': [0.0001, 0.001, 0.01]\n",
    "             }\n",
    "\n",
    "# Type of scoring used to compare parameter combinations\n",
    "scorer = metrics.make_scorer(metrics.f1_score, average='weighted')\n",
    "\n",
    "# Run the grid search\n",
    "grid_obj = GridSearchCV(dtree_estimator, parameters, scoring=scorer,cv = 5)\n",
    "grid_obj = grid_obj.fit(X_train, y_train)\n",
    "\n",
    "# Set the clf to the best combination of parameters\n",
    "dtree_estimator = grid_obj.best_estimator_\n",
    "\n",
    "# Fit the best algorithm to the data.\n",
    "dtree_estimator.fit(X_train, y_train)"
   ]
  },
  {
   "cell_type": "code",
   "execution_count": 49,
   "id": "faf4e17b",
   "metadata": {
    "execution": {
     "iopub.execute_input": "2025-01-28T19:11:59.260872Z",
     "iopub.status.busy": "2025-01-28T19:11:59.260480Z",
     "iopub.status.idle": "2025-01-28T19:11:59.466602Z",
     "shell.execute_reply": "2025-01-28T19:11:59.465401Z"
    },
    "papermill": {
     "duration": 0.23175,
     "end_time": "2025-01-28T19:11:59.468499",
     "exception": false,
     "start_time": "2025-01-28T19:11:59.236749",
     "status": "completed"
    },
    "tags": []
   },
   "outputs": [
    {
     "data": {
      "image/png": "[encoded data removed]",
      "text/plain": [
       "<Figure size 1200x1200 with 1 Axes>"
      ]
     },
     "metadata": {},
     "output_type": "display_data"
    }
   ],
   "source": [
    "feature_names = X_train.columns\n",
    "importances = dtree_estimator.feature_importances_\n",
    "indices = np.argsort(importances)\n",
    "\n",
    "plt.figure(figsize=(12,12))\n",
    "plt.title('Feature Importances')\n",
    "plt.barh(range(len(indices)), importances[indices], color='violet', align='center')\n",
    "plt.yticks(range(len(indices)), [feature_names[i] for i in indices])\n",
    "plt.xlabel('Relative Importance')\n",
    "plt.show()"
   ]
  },
  {
   "cell_type": "code",
   "execution_count": 50,
   "id": "f85a8d1c",
   "metadata": {
    "execution": {
     "iopub.execute_input": "2025-01-28T19:11:59.516422Z",
     "iopub.status.busy": "2025-01-28T19:11:59.516068Z",
     "iopub.status.idle": "2025-01-28T19:11:59.754555Z",
     "shell.execute_reply": "2025-01-28T19:11:59.753183Z"
    },
    "papermill": {
     "duration": 0.264318,
     "end_time": "2025-01-28T19:11:59.756180",
     "exception": false,
     "start_time": "2025-01-28T19:11:59.491862",
     "status": "completed"
    },
    "tags": []
   },
   "outputs": [
    {
     "name": "stdout",
     "output_type": "stream",
     "text": [
      "Training performance:\n",
      "    Accuracy    Recall  Precision        F1\n",
      "0  0.845907  0.757322   0.826484  0.790393\n",
      "Val performance:\n",
      "    Accuracy    Recall  Precision       F1\n",
      "0  0.798507  0.669903   0.775281  0.71875\n"
     ]
    },
    {
     "data": {
      "image/png": "[encoded data removed]",
      "text/plain": [
       "<Figure size 600x400 with 2 Axes>"
      ]
     },
     "metadata": {},
     "output_type": "display_data"
    }
   ],
   "source": [
    "#Calculating different metrics\n",
    "dtree_estimator_model_train_perf=model_performance_classification_sklearn(dtree_estimator,X_train,y_train)\n",
    "print(\"Training performance:\\n\",dtree_estimator_model_train_perf)\n",
    "dtree_estimator_model_test_perf=model_performance_classification_sklearn(dtree_estimator,X_val,y_val)\n",
    "print(\"Val performance:\\n\",dtree_estimator_model_test_perf)\n",
    "\n",
    "#Creating confusion matrix\n",
    "confusion_matrix_sklearn(dtree_estimator,X_val,y_val)"
   ]
  },
  {
   "cell_type": "code",
   "execution_count": 51,
   "id": "020760b3",
   "metadata": {
    "execution": {
     "iopub.execute_input": "2025-01-28T19:11:59.807319Z",
     "iopub.status.busy": "2025-01-28T19:11:59.806946Z",
     "iopub.status.idle": "2025-01-28T19:12:00.197164Z",
     "shell.execute_reply": "2025-01-28T19:12:00.196143Z"
    },
    "papermill": {
     "duration": 0.41825,
     "end_time": "2025-01-28T19:12:00.199151",
     "exception": false,
     "start_time": "2025-01-28T19:11:59.780901",
     "status": "completed"
    },
    "tags": []
   },
   "outputs": [],
   "source": [
    "from sklearn.ensemble import BaggingClassifier\n",
    "from sklearn.ensemble import RandomForestClassifier\n",
    "from sklearn.ensemble import AdaBoostClassifier, GradientBoostingClassifier\n",
    "from xgboost import XGBClassifier\n",
    "from sklearn.ensemble import StackingClassifier"
   ]
  },
  {
   "cell_type": "code",
   "execution_count": 52,
   "id": "d716f439",
   "metadata": {
    "execution": {
     "iopub.execute_input": "2025-01-28T19:12:00.249165Z",
     "iopub.status.busy": "2025-01-28T19:12:00.248731Z",
     "iopub.status.idle": "2025-01-28T19:12:00.707440Z",
     "shell.execute_reply": "2025-01-28T19:12:00.706380Z"
    },
    "papermill": {
     "duration": 0.485262,
     "end_time": "2025-01-28T19:12:00.709257",
     "exception": false,
     "start_time": "2025-01-28T19:12:00.223995",
     "status": "completed"
    },
    "tags": []
   },
   "outputs": [
    {
     "name": "stdout",
     "output_type": "stream",
     "text": [
      "Training performance:\n",
      "    Accuracy  Recall  Precision   F1\n",
      "0       1.0     1.0        1.0  1.0\n",
      "Val performance:\n",
      "    Accuracy    Recall  Precision        F1\n",
      "0  0.813433  0.660194   0.819277  0.731183\n"
     ]
    },
    {
     "data": {
      "image/png": "[encoded data removed]",
      "text/plain": [
       "<Figure size 600x400 with 2 Axes>"
      ]
     },
     "metadata": {},
     "output_type": "display_data"
    }
   ],
   "source": [
    "#Fitting the model\n",
    "rf_estimator = RandomForestClassifier(random_state=1)\n",
    "rf_estimator.fit(X_train,y_train)\n",
    "\n",
    "#Calculating different metrics\n",
    "rf_estimator_model_train_perf=model_performance_classification_sklearn(rf_estimator,X_train,y_train)\n",
    "print(\"Training performance:\\n\",rf_estimator_model_train_perf)\n",
    "rf_estimator_model_test_perf=model_performance_classification_sklearn(rf_estimator,X_val,y_val)\n",
    "print(\"Val performance:\\n\",rf_estimator_model_test_perf)\n",
    "\n",
    "#Creating confusion matrix\n",
    "confusion_matrix_sklearn(rf_estimator, X_val, y_val)"
   ]
  },
  {
   "cell_type": "code",
   "execution_count": 53,
   "id": "2702c006",
   "metadata": {
    "execution": {
     "iopub.execute_input": "2025-01-28T19:12:00.760203Z",
     "iopub.status.busy": "2025-01-28T19:12:00.759761Z",
     "iopub.status.idle": "2025-01-28T19:12:00.975922Z",
     "shell.execute_reply": "2025-01-28T19:12:00.974890Z"
    },
    "papermill": {
     "duration": 0.244187,
     "end_time": "2025-01-28T19:12:00.977568",
     "exception": false,
     "start_time": "2025-01-28T19:12:00.733381",
     "status": "completed"
    },
    "tags": []
   },
   "outputs": [
    {
     "data": {
      "image/png": "[encoded data removed]",
      "text/plain": [
       "<Figure size 1200x1200 with 1 Axes>"
      ]
     },
     "metadata": {},
     "output_type": "display_data"
    }
   ],
   "source": [
    "feature_names = X_train.columns\n",
    "importances = rf_estimator.feature_importances_\n",
    "indices = np.argsort(importances)\n",
    "\n",
    "plt.figure(figsize=(12,12))\n",
    "plt.title('Feature Importances')\n",
    "plt.barh(range(len(indices)), importances[indices], color='violet', align='center')\n",
    "plt.yticks(range(len(indices)), [feature_names[i] for i in indices])\n",
    "plt.xlabel('Relative Importance')\n",
    "plt.show()"
   ]
  },
  {
   "cell_type": "code",
   "execution_count": 54,
   "id": "e8e050ba",
   "metadata": {
    "execution": {
     "iopub.execute_input": "2025-01-28T19:12:01.028776Z",
     "iopub.status.busy": "2025-01-28T19:12:01.028408Z",
     "iopub.status.idle": "2025-01-28T19:18:43.944248Z",
     "shell.execute_reply": "2025-01-28T19:18:43.942937Z"
    },
    "papermill": {
     "duration": 402.969874,
     "end_time": "2025-01-28T19:18:43.972531",
     "exception": false,
     "start_time": "2025-01-28T19:12:01.002657",
     "status": "completed"
    },
    "tags": []
   },
   "outputs": [
    {
     "name": "stderr",
     "output_type": "stream",
     "text": [
      "/usr/local/lib/python3.10/dist-packages/sklearn/model_selection/_search.py:952: UserWarning: One or more of the test scores are non-finite: [nan nan nan ... nan nan nan]\n",
      "  warnings.warn(\n"
     ]
    },
    {
     "data": {
      "text/html": [
       "<style>#sk-container-id-2 {color: black;background-color: white;}#sk-container-id-2 pre{padding: 0;}#sk-container-id-2 div.sk-toggleable {background-color: white;}#sk-container-id-2 label.sk-toggleable__label {cursor: pointer;display: block;width: 100%;margin-bottom: 0;padding: 0.3em;box-sizing: border-box;text-align: center;}#sk-container-id-2 label.sk-toggleable__label-arrow:before {content: \"▸\";float: left;margin-right: 0.25em;color: #696969;}#sk-container-id-2 label.sk-toggleable__label-arrow:hover:before {color: black;}#sk-container-id-2 div.sk-estimator:hover label.sk-toggleable__label-arrow:before {color: black;}#sk-container-id-2 div.sk-toggleable__content {max-height: 0;max-width: 0;overflow: hidden;text-align: left;background-color: #f0f8ff;}#sk-container-id-2 div.sk-toggleable__content pre {margin: 0.2em;color: black;border-radius: 0.25em;background-color: #f0f8ff;}#sk-container-id-2 input.sk-toggleable__control:checked~div.sk-toggleable__content {max-height: 200px;max-width: 100%;overflow: auto;}#sk-container-id-2 input.sk-toggleable__control:checked~label.sk-toggleable__label-arrow:before {content: \"▾\";}#sk-container-id-2 div.sk-estimator input.sk-toggleable__control:checked~label.sk-toggleable__label {background-color: #d4ebff;}#sk-container-id-2 div.sk-label input.sk-toggleable__control:checked~label.sk-toggleable__label {background-color: #d4ebff;}#sk-container-id-2 input.sk-hidden--visually {border: 0;clip: rect(1px 1px 1px 1px);clip: rect(1px, 1px, 1px, 1px);height: 1px;margin: -1px;overflow: hidden;padding: 0;position: absolute;width: 1px;}#sk-container-id-2 div.sk-estimator {font-family: monospace;background-color: #f0f8ff;border: 1px dotted black;border-radius: 0.25em;box-sizing: border-box;margin-bottom: 0.5em;}#sk-container-id-2 div.sk-estimator:hover {background-color: #d4ebff;}#sk-container-id-2 div.sk-parallel-item::after {content: \"\";width: 100%;border-bottom: 1px solid gray;flex-grow: 1;}#sk-container-id-2 div.sk-label:hover label.sk-toggleable__label {background-color: #d4ebff;}#sk-container-id-2 div.sk-serial::before {content: \"\";position: absolute;border-left: 1px solid gray;box-sizing: border-box;top: 0;bottom: 0;left: 50%;z-index: 0;}#sk-container-id-2 div.sk-serial {display: flex;flex-direction: column;align-items: center;background-color: white;padding-right: 0.2em;padding-left: 0.2em;position: relative;}#sk-container-id-2 div.sk-item {position: relative;z-index: 1;}#sk-container-id-2 div.sk-parallel {display: flex;align-items: stretch;justify-content: center;background-color: white;position: relative;}#sk-container-id-2 div.sk-item::before, #sk-container-id-2 div.sk-parallel-item::before {content: \"\";position: absolute;border-left: 1px solid gray;box-sizing: border-box;top: 0;bottom: 0;left: 50%;z-index: -1;}#sk-container-id-2 div.sk-parallel-item {display: flex;flex-direction: column;z-index: 1;position: relative;background-color: white;}#sk-container-id-2 div.sk-parallel-item:first-child::after {align-self: flex-end;width: 50%;}#sk-container-id-2 div.sk-parallel-item:last-child::after {align-self: flex-start;width: 50%;}#sk-container-id-2 div.sk-parallel-item:only-child::after {width: 0;}#sk-container-id-2 div.sk-dashed-wrapped {border: 1px dashed gray;margin: 0 0.4em 0.5em 0.4em;box-sizing: border-box;padding-bottom: 0.4em;background-color: white;}#sk-container-id-2 div.sk-label label {font-family: monospace;font-weight: bold;display: inline-block;line-height: 1.2em;}#sk-container-id-2 div.sk-label-container {text-align: center;}#sk-container-id-2 div.sk-container {/* jupyter's `normalize.less` sets `[hidden] { display: none; }` but bootstrap.min.css set `[hidden] { display: none !important; }` so we also need the `!important` here to be able to override the default hidden behavior on the sphinx rendered scikit-learn.org. See: https://github.com/scikit-learn/scikit-learn/issues/21755 */display: inline-block !important;position: relative;}#sk-container-id-2 div.sk-text-repr-fallback {display: none;}</style><div id=\"sk-container-id-2\" class=\"sk-top-container\"><div class=\"sk-text-repr-fallback\"><pre>RandomForestClassifier(ccp_alpha=0.0001, class_weight=&#x27;balanced&#x27;, max_depth=10,\n",
       "                       max_features=0.5, max_samples=0.4,\n",
       "                       min_impurity_decrease=0.0001, min_samples_leaf=10,\n",
       "                       n_estimators=25, random_state=1)</pre><b>In a Jupyter environment, please rerun this cell to show the HTML representation or trust the notebook. <br />On GitHub, the HTML representation is unable to render, please try loading this page with nbviewer.org.</b></div><div class=\"sk-container\" hidden><div class=\"sk-item\"><div class=\"sk-estimator sk-toggleable\"><input class=\"sk-toggleable__control sk-hidden--visually\" id=\"sk-estimator-id-2\" type=\"checkbox\" checked><label for=\"sk-estimator-id-2\" class=\"sk-toggleable__label sk-toggleable__label-arrow\">RandomForestClassifier</label><div class=\"sk-toggleable__content\"><pre>RandomForestClassifier(ccp_alpha=0.0001, class_weight=&#x27;balanced&#x27;, max_depth=10,\n",
       "                       max_features=0.5, max_samples=0.4,\n",
       "                       min_impurity_decrease=0.0001, min_samples_leaf=10,\n",
       "                       n_estimators=25, random_state=1)</pre></div></div></div></div></div>"
      ],
      "text/plain": [
       "RandomForestClassifier(ccp_alpha=0.0001, class_weight='balanced', max_depth=10,\n",
       "                       max_features=0.5, max_samples=0.4,\n",
       "                       min_impurity_decrease=0.0001, min_samples_leaf=10,\n",
       "                       n_estimators=25, random_state=1)"
      ]
     },
     "execution_count": 54,
     "metadata": {},
     "output_type": "execute_result"
    }
   ],
   "source": [
    "rf_tuned = RandomForestClassifier(random_state=1)\n",
    "\n",
    "parameters = {\n",
    "    \"class_weight\": ['balanced'],\n",
    "    \"n_estimators\": [25,50,75],\n",
    "    \"min_samples_leaf\": [10,15,20],\n",
    "    \"max_depth\": [10, 15, 20],\n",
    "    \"max_features\": [0.5,'sqrt','log2',None],\n",
    "    \"min_impurity_decrease\" : [0.0001,0.001],\n",
    "    'ccp_alpha': [0.0001, 0.001, 0.01],\n",
    "    \"max_samples\": np.arange(0.4, 0.7, 0.1)\n",
    "}\n",
    "\n",
    "\n",
    "# Type of scoring used to compare parameter combinations\n",
    "scorer = metrics.make_scorer(metrics.accuracy_score, average='weighted')\n",
    "\n",
    "# Run the grid search\n",
    "grid_obj = GridSearchCV(rf_tuned, parameters, scoring=scorer,cv=5,n_jobs=-1)\n",
    "grid_obj = grid_obj.fit(X_train, y_train)\n",
    "\n",
    "# Set the clf to the best combination of parameters\n",
    "rf_tuned = grid_obj.best_estimator_\n",
    "\n",
    "# Fit the best algorithm to the data.\n",
    "rf_tuned.fit(X_train, y_train)"
   ]
  },
  {
   "cell_type": "code",
   "execution_count": 55,
   "id": "f8de4116",
   "metadata": {
    "execution": {
     "iopub.execute_input": "2025-01-28T19:18:44.025261Z",
     "iopub.status.busy": "2025-01-28T19:18:44.024804Z",
     "iopub.status.idle": "2025-01-28T19:18:44.272941Z",
     "shell.execute_reply": "2025-01-28T19:18:44.271812Z"
    },
    "papermill": {
     "duration": 0.27689,
     "end_time": "2025-01-28T19:18:44.274652",
     "exception": false,
     "start_time": "2025-01-28T19:18:43.997762",
     "status": "completed"
    },
    "tags": []
   },
   "outputs": [
    {
     "name": "stdout",
     "output_type": "stream",
     "text": [
      "Training performance:\n",
      "    Accuracy    Recall  Precision        F1\n",
      "0  0.802568  0.790795   0.721374  0.754491\n",
      "Val performance:\n",
      "    Accuracy    Recall  Precision        F1\n",
      "0  0.791045  0.747573   0.719626  0.733333\n"
     ]
    },
    {
     "data": {
      "image/png": "[encoded data removed]",
      "text/plain": [
       "<Figure size 600x400 with 2 Axes>"
      ]
     },
     "metadata": {},
     "output_type": "display_data"
    }
   ],
   "source": [
    "rf_tuned_model_train_perf=model_performance_classification_sklearn(rf_tuned,X_train,y_train)\n",
    "print(\"Training performance:\\n\",rf_tuned_model_train_perf)\n",
    "rf_tuned_model_test_perf=model_performance_classification_sklearn(rf_tuned,X_val,y_val)\n",
    "print(\"Val performance:\\n\",rf_tuned_model_test_perf)\n",
    "\n",
    "#Creating confusion matrix\n",
    "confusion_matrix_sklearn(rf_tuned, X_val, y_val)"
   ]
  },
  {
   "cell_type": "code",
   "execution_count": 56,
   "id": "2cabea42",
   "metadata": {
    "execution": {
     "iopub.execute_input": "2025-01-28T19:18:44.327981Z",
     "iopub.status.busy": "2025-01-28T19:18:44.327567Z",
     "iopub.status.idle": "2025-01-28T19:18:44.701674Z",
     "shell.execute_reply": "2025-01-28T19:18:44.700637Z"
    },
    "papermill": {
     "duration": 0.402558,
     "end_time": "2025-01-28T19:18:44.703273",
     "exception": false,
     "start_time": "2025-01-28T19:18:44.300715",
     "status": "completed"
    },
    "tags": []
   },
   "outputs": [
    {
     "name": "stdout",
     "output_type": "stream",
     "text": [
      "Training performance:\n",
      "    Accuracy    Recall  Precision        F1\n",
      "0  0.921348  0.849372   0.939815  0.892308\n",
      "Val performance:\n",
      "    Accuracy    Recall  Precision        F1\n",
      "0  0.820896  0.679612   0.823529  0.744681\n"
     ]
    },
    {
     "data": {
      "image/png": "[encoded data removed]",
      "text/plain": [
       "<Figure size 600x400 with 2 Axes>"
      ]
     },
     "metadata": {},
     "output_type": "display_data"
    }
   ],
   "source": [
    "gb_classifier = GradientBoostingClassifier(random_state=1)\n",
    "gb_classifier.fit(X_train,y_train)\n",
    "\n",
    "#Calculating different metrics\n",
    "gb_classifier_model_train_perf=model_performance_classification_sklearn(gb_classifier,X_train,y_train)\n",
    "print(\"Training performance:\\n\",gb_classifier_model_train_perf)\n",
    "gb_classifier_model_test_perf=model_performance_classification_sklearn(gb_classifier,X_val,y_val)\n",
    "print(\"Val performance:\\n\",gb_classifier_model_test_perf)\n",
    "\n",
    "#Creating confusion matrix\n",
    "confusion_matrix_sklearn(gb_classifier,X_val,y_val)"
   ]
  },
  {
   "cell_type": "code",
   "execution_count": 57,
   "id": "851b7111",
   "metadata": {
    "execution": {
     "iopub.execute_input": "2025-01-28T19:18:44.757491Z",
     "iopub.status.busy": "2025-01-28T19:18:44.757150Z",
     "iopub.status.idle": "2025-01-28T19:18:57.668148Z",
     "shell.execute_reply": "2025-01-28T19:18:57.667056Z"
    },
    "papermill": {
     "duration": 12.940157,
     "end_time": "2025-01-28T19:18:57.669942",
     "exception": false,
     "start_time": "2025-01-28T19:18:44.729785",
     "status": "completed"
    },
    "tags": []
   },
   "outputs": [
    {
     "data": {
      "text/html": [
       "<style>#sk-container-id-3 {color: black;background-color: white;}#sk-container-id-3 pre{padding: 0;}#sk-container-id-3 div.sk-toggleable {background-color: white;}#sk-container-id-3 label.sk-toggleable__label {cursor: pointer;display: block;width: 100%;margin-bottom: 0;padding: 0.3em;box-sizing: border-box;text-align: center;}#sk-container-id-3 label.sk-toggleable__label-arrow:before {content: \"▸\";float: left;margin-right: 0.25em;color: #696969;}#sk-container-id-3 label.sk-toggleable__label-arrow:hover:before {color: black;}#sk-container-id-3 div.sk-estimator:hover label.sk-toggleable__label-arrow:before {color: black;}#sk-container-id-3 div.sk-toggleable__content {max-height: 0;max-width: 0;overflow: hidden;text-align: left;background-color: #f0f8ff;}#sk-container-id-3 div.sk-toggleable__content pre {margin: 0.2em;color: black;border-radius: 0.25em;background-color: #f0f8ff;}#sk-container-id-3 input.sk-toggleable__control:checked~div.sk-toggleable__content {max-height: 200px;max-width: 100%;overflow: auto;}#sk-container-id-3 input.sk-toggleable__control:checked~label.sk-toggleable__label-arrow:before {content: \"▾\";}#sk-container-id-3 div.sk-estimator input.sk-toggleable__control:checked~label.sk-toggleable__label {background-color: #d4ebff;}#sk-container-id-3 div.sk-label input.sk-toggleable__control:checked~label.sk-toggleable__label {background-color: #d4ebff;}#sk-container-id-3 input.sk-hidden--visually {border: 0;clip: rect(1px 1px 1px 1px);clip: rect(1px, 1px, 1px, 1px);height: 1px;margin: -1px;overflow: hidden;padding: 0;position: absolute;width: 1px;}#sk-container-id-3 div.sk-estimator {font-family: monospace;background-color: #f0f8ff;border: 1px dotted black;border-radius: 0.25em;box-sizing: border-box;margin-bottom: 0.5em;}#sk-container-id-3 div.sk-estimator:hover {background-color: #d4ebff;}#sk-container-id-3 div.sk-parallel-item::after {content: \"\";width: 100%;border-bottom: 1px solid gray;flex-grow: 1;}#sk-container-id-3 div.sk-label:hover label.sk-toggleable__label {background-color: #d4ebff;}#sk-container-id-3 div.sk-serial::before {content: \"\";position: absolute;border-left: 1px solid gray;box-sizing: border-box;top: 0;bottom: 0;left: 50%;z-index: 0;}#sk-container-id-3 div.sk-serial {display: flex;flex-direction: column;align-items: center;background-color: white;padding-right: 0.2em;padding-left: 0.2em;position: relative;}#sk-container-id-3 div.sk-item {position: relative;z-index: 1;}#sk-container-id-3 div.sk-parallel {display: flex;align-items: stretch;justify-content: center;background-color: white;position: relative;}#sk-container-id-3 div.sk-item::before, #sk-container-id-3 div.sk-parallel-item::before {content: \"\";position: absolute;border-left: 1px solid gray;box-sizing: border-box;top: 0;bottom: 0;left: 50%;z-index: -1;}#sk-container-id-3 div.sk-parallel-item {display: flex;flex-direction: column;z-index: 1;position: relative;background-color: white;}#sk-container-id-3 div.sk-parallel-item:first-child::after {align-self: flex-end;width: 50%;}#sk-container-id-3 div.sk-parallel-item:last-child::after {align-self: flex-start;width: 50%;}#sk-container-id-3 div.sk-parallel-item:only-child::after {width: 0;}#sk-container-id-3 div.sk-dashed-wrapped {border: 1px dashed gray;margin: 0 0.4em 0.5em 0.4em;box-sizing: border-box;padding-bottom: 0.4em;background-color: white;}#sk-container-id-3 div.sk-label label {font-family: monospace;font-weight: bold;display: inline-block;line-height: 1.2em;}#sk-container-id-3 div.sk-label-container {text-align: center;}#sk-container-id-3 div.sk-container {/* jupyter's `normalize.less` sets `[hidden] { display: none; }` but bootstrap.min.css set `[hidden] { display: none !important; }` so we also need the `!important` here to be able to override the default hidden behavior on the sphinx rendered scikit-learn.org. See: https://github.com/scikit-learn/scikit-learn/issues/21755 */display: inline-block !important;position: relative;}#sk-container-id-3 div.sk-text-repr-fallback {display: none;}</style><div id=\"sk-container-id-3\" class=\"sk-top-container\"><div class=\"sk-text-repr-fallback\"><pre>GradientBoostingClassifier(ccp_alpha=0.001, learning_rate=0.01, max_depth=4,\n",
       "                           max_features=0.3, min_impurity_decrease=0.0001,\n",
       "                           min_samples_leaf=5, n_estimators=50, random_state=1)</pre><b>In a Jupyter environment, please rerun this cell to show the HTML representation or trust the notebook. <br />On GitHub, the HTML representation is unable to render, please try loading this page with nbviewer.org.</b></div><div class=\"sk-container\" hidden><div class=\"sk-item\"><div class=\"sk-estimator sk-toggleable\"><input class=\"sk-toggleable__control sk-hidden--visually\" id=\"sk-estimator-id-3\" type=\"checkbox\" checked><label for=\"sk-estimator-id-3\" class=\"sk-toggleable__label sk-toggleable__label-arrow\">GradientBoostingClassifier</label><div class=\"sk-toggleable__content\"><pre>GradientBoostingClassifier(ccp_alpha=0.001, learning_rate=0.01, max_depth=4,\n",
       "                           max_features=0.3, min_impurity_decrease=0.0001,\n",
       "                           min_samples_leaf=5, n_estimators=50, random_state=1)</pre></div></div></div></div></div>"
      ],
      "text/plain": [
       "GradientBoostingClassifier(ccp_alpha=0.001, learning_rate=0.01, max_depth=4,\n",
       "                           max_features=0.3, min_impurity_decrease=0.0001,\n",
       "                           min_samples_leaf=5, n_estimators=50, random_state=1)"
      ]
     },
     "execution_count": 57,
     "metadata": {},
     "output_type": "execute_result"
    }
   ],
   "source": [
    "# Choose the type of classifier.\n",
    "gbc_tuned = GradientBoostingClassifier(random_state=1)\n",
    "\n",
    "# Grid of parameters to choose from\n",
    "parameters = {\n",
    "    \"n_estimators\": np.arange(50,75,100),\n",
    "    \"learning_rate\": [0.005,0.01],\n",
    "    \"max_depth\": [3,4],\n",
    "    \"max_features\":[0.3,0.4],\n",
    "    \"min_impurity_decrease\": [0.0001, 0.001],\n",
    "    \"ccp_alpha\": [0.001, 0.01],\n",
    "    \"min_samples_split\": [2, 5, 10],\n",
    "    \"min_samples_leaf\": [5,10],\n",
    "}\n",
    "\n",
    "# Type of scoring used to compare parameter combinations\n",
    "scorer = metrics.make_scorer(metrics.recall_score, average='weighted')\n",
    "\n",
    "# Run the grid search\n",
    "grid_obj = GridSearchCV(gbc_tuned, parameters, scoring=scorer,cv=3, n_jobs=-1)\n",
    "grid_obj = grid_obj.fit(X_train, y_train)\n",
    "\n",
    "# Set the clf to the best combination of parameters\n",
    "gbc_tuned = grid_obj.best_estimator_\n",
    "\n",
    "# Fit the best algorithm to the data.\n",
    "gbc_tuned.fit(X_train, y_train)"
   ]
  },
  {
   "cell_type": "code",
   "execution_count": 58,
   "id": "37443c07",
   "metadata": {
    "execution": {
     "iopub.execute_input": "2025-01-28T19:18:57.725226Z",
     "iopub.status.busy": "2025-01-28T19:18:57.724816Z",
     "iopub.status.idle": "2025-01-28T19:18:57.983037Z",
     "shell.execute_reply": "2025-01-28T19:18:57.981817Z"
    },
    "papermill": {
     "duration": 0.287779,
     "end_time": "2025-01-28T19:18:57.984706",
     "exception": false,
     "start_time": "2025-01-28T19:18:57.696927",
     "status": "completed"
    },
    "tags": []
   },
   "outputs": [
    {
     "name": "stdout",
     "output_type": "stream",
     "text": [
      "Training performance:\n",
      "    Accuracy    Recall  Precision        F1\n",
      "0  0.800963  0.502092       0.96  0.659341\n",
      "Val performance:\n",
      "    Accuracy    Recall  Precision        F1\n",
      "0  0.794776  0.504854   0.928571  0.654088\n"
     ]
    },
    {
     "data": {
      "image/png": "[encoded data removed]",
      "text/plain": [
       "<Figure size 600x400 with 2 Axes>"
      ]
     },
     "metadata": {},
     "output_type": "display_data"
    }
   ],
   "source": [
    "#Calculating different metrics\n",
    "gbc_tuned_model_train_perf=model_performance_classification_sklearn(gbc_tuned,X_train,y_train)\n",
    "print(\"Training performance:\\n\",gbc_tuned_model_train_perf)\n",
    "gbc_tuned_model_test_perf=model_performance_classification_sklearn(gbc_tuned,X_val,y_val)\n",
    "print(\"Val performance:\\n\",gbc_tuned_model_test_perf)\n",
    "\n",
    "#Creating confusion matrix\n",
    "confusion_matrix_sklearn(gbc_tuned,X_val,y_val)"
   ]
  },
  {
   "cell_type": "code",
   "execution_count": 59,
   "id": "2b420637",
   "metadata": {
    "execution": {
     "iopub.execute_input": "2025-01-28T19:18:58.042091Z",
     "iopub.status.busy": "2025-01-28T19:18:58.041654Z",
     "iopub.status.idle": "2025-01-28T19:18:58.260046Z",
     "shell.execute_reply": "2025-01-28T19:18:58.258827Z"
    },
    "papermill": {
     "duration": 0.24877,
     "end_time": "2025-01-28T19:18:58.262098",
     "exception": false,
     "start_time": "2025-01-28T19:18:58.013328",
     "status": "completed"
    },
    "tags": []
   },
   "outputs": [
    {
     "data": {
      "image/png": "[encoded data removed]",
      "text/plain": [
       "<Figure size 1200x1200 with 1 Axes>"
      ]
     },
     "metadata": {},
     "output_type": "display_data"
    }
   ],
   "source": [
    "feature_names = X_train.columns\n",
    "importances = gbc_tuned.feature_importances_\n",
    "indices = np.argsort(importances)\n",
    "\n",
    "plt.figure(figsize=(12,12))\n",
    "plt.title('Feature Importances')\n",
    "plt.barh(range(len(indices)), importances[indices], color='violet', align='center')\n",
    "plt.yticks(range(len(indices)), [feature_names[i] for i in indices])\n",
    "plt.xlabel('Relative Importance')\n",
    "plt.show()"
   ]
  },
  {
   "cell_type": "code",
   "execution_count": 60,
   "id": "b477f5e1",
   "metadata": {
    "execution": {
     "iopub.execute_input": "2025-01-28T19:18:58.320631Z",
     "iopub.status.busy": "2025-01-28T19:18:58.320276Z",
     "iopub.status.idle": "2025-01-28T19:18:58.332460Z",
     "shell.execute_reply": "2025-01-28T19:18:58.331116Z"
    },
    "papermill": {
     "duration": 0.042917,
     "end_time": "2025-01-28T19:18:58.334250",
     "exception": false,
     "start_time": "2025-01-28T19:18:58.291333",
     "status": "completed"
    },
    "tags": []
   },
   "outputs": [
    {
     "name": "stdout",
     "output_type": "stream",
     "text": [
      "<class 'pandas.core.frame.DataFrame'>\n",
      "RangeIndex: 418 entries, 0 to 417\n",
      "Data columns (total 11 columns):\n",
      " #   Column       Non-Null Count  Dtype  \n",
      "---  ------       --------------  -----  \n",
      " 0   PassengerId  418 non-null    int64  \n",
      " 1   Pclass       418 non-null    int64  \n",
      " 2   Name         418 non-null    object \n",
      " 3   Sex          418 non-null    object \n",
      " 4   Age          332 non-null    float64\n",
      " 5   SibSp        418 non-null    int64  \n",
      " 6   Parch        418 non-null    int64  \n",
      " 7   Ticket       418 non-null    object \n",
      " 8   Fare         417 non-null    float64\n",
      " 9   Cabin        91 non-null     object \n",
      " 10  Embarked     418 non-null    object \n",
      "dtypes: float64(2), int64(4), object(5)\n",
      "memory usage: 36.0+ KB\n"
     ]
    }
   ],
   "source": [
    "test_data.info()"
   ]
  },
  {
   "cell_type": "code",
   "execution_count": 61,
   "id": "b35c2722",
   "metadata": {
    "execution": {
     "iopub.execute_input": "2025-01-28T19:18:58.392572Z",
     "iopub.status.busy": "2025-01-28T19:18:58.392203Z",
     "iopub.status.idle": "2025-01-28T19:18:58.397993Z",
     "shell.execute_reply": "2025-01-28T19:18:58.396788Z"
    },
    "papermill": {
     "duration": 0.036221,
     "end_time": "2025-01-28T19:18:58.399629",
     "exception": false,
     "start_time": "2025-01-28T19:18:58.363408",
     "status": "completed"
    },
    "tags": []
   },
   "outputs": [],
   "source": [
    "test_data_1 = test_data.drop(['Name','Ticket','Cabin','SibSp','Parch'], axis = 1)"
   ]
  },
  {
   "cell_type": "code",
   "execution_count": 62,
   "id": "f399a9d6",
   "metadata": {
    "execution": {
     "iopub.execute_input": "2025-01-28T19:18:58.457802Z",
     "iopub.status.busy": "2025-01-28T19:18:58.457468Z",
     "iopub.status.idle": "2025-01-28T19:18:58.462075Z",
     "shell.execute_reply": "2025-01-28T19:18:58.460960Z"
    },
    "papermill": {
     "duration": 0.035942,
     "end_time": "2025-01-28T19:18:58.463822",
     "exception": false,
     "start_time": "2025-01-28T19:18:58.427880",
     "status": "completed"
    },
    "tags": []
   },
   "outputs": [],
   "source": [
    " X_test = test_data_1.copy()"
   ]
  },
  {
   "cell_type": "code",
   "execution_count": 63,
   "id": "c4549e19",
   "metadata": {
    "execution": {
     "iopub.execute_input": "2025-01-28T19:18:58.521548Z",
     "iopub.status.busy": "2025-01-28T19:18:58.521212Z",
     "iopub.status.idle": "2025-01-28T19:18:58.538042Z",
     "shell.execute_reply": "2025-01-28T19:18:58.536698Z"
    },
    "papermill": {
     "duration": 0.047725,
     "end_time": "2025-01-28T19:18:58.539890",
     "exception": false,
     "start_time": "2025-01-28T19:18:58.492165",
     "status": "completed"
    },
    "tags": []
   },
   "outputs": [
    {
     "name": "stderr",
     "output_type": "stream",
     "text": [
      "/usr/local/lib/python3.10/dist-packages/pandas/io/formats/format.py:1458: RuntimeWarning: invalid value encountered in greater\n",
      "  has_large_values = (abs_vals > 1e6).any()\n",
      "/usr/local/lib/python3.10/dist-packages/pandas/io/formats/format.py:1459: RuntimeWarning: invalid value encountered in less\n",
      "  has_small_values = ((abs_vals < 10 ** (-self.digits)) & (abs_vals > 0)).any()\n",
      "/usr/local/lib/python3.10/dist-packages/pandas/io/formats/format.py:1459: RuntimeWarning: invalid value encountered in greater\n",
      "  has_small_values = ((abs_vals < 10 ** (-self.digits)) & (abs_vals > 0)).any()\n"
     ]
    },
    {
     "data": {
      "text/html": [
       "<div>\n",
       "<style scoped>\n",
       "    .dataframe tbody tr th:only-of-type {\n",
       "        vertical-align: middle;\n",
       "    }\n",
       "\n",
       "    .dataframe tbody tr th {\n",
       "        vertical-align: top;\n",
       "    }\n",
       "\n",
       "    .dataframe thead th {\n",
       "        text-align: right;\n",
       "    }\n",
       "</style>\n",
       "<table border=\"1\" class=\"dataframe\">\n",
       "  <thead>\n",
       "    <tr style=\"text-align: right;\">\n",
       "      <th></th>\n",
       "      <th>PassengerId</th>\n",
       "      <th>Pclass</th>\n",
       "      <th>Sex</th>\n",
       "      <th>Age</th>\n",
       "      <th>Fare</th>\n",
       "      <th>Embarked</th>\n",
       "    </tr>\n",
       "  </thead>\n",
       "  <tbody>\n",
       "    <tr>\n",
       "      <th>0</th>\n",
       "      <td>892</td>\n",
       "      <td>3</td>\n",
       "      <td>male</td>\n",
       "      <td>34.5</td>\n",
       "      <td>7.8292</td>\n",
       "      <td>Q</td>\n",
       "    </tr>\n",
       "    <tr>\n",
       "      <th>1</th>\n",
       "      <td>893</td>\n",
       "      <td>3</td>\n",
       "      <td>female</td>\n",
       "      <td>47.0</td>\n",
       "      <td>7.0000</td>\n",
       "      <td>S</td>\n",
       "    </tr>\n",
       "    <tr>\n",
       "      <th>2</th>\n",
       "      <td>894</td>\n",
       "      <td>2</td>\n",
       "      <td>male</td>\n",
       "      <td>62.0</td>\n",
       "      <td>9.6875</td>\n",
       "      <td>Q</td>\n",
       "    </tr>\n",
       "    <tr>\n",
       "      <th>3</th>\n",
       "      <td>895</td>\n",
       "      <td>3</td>\n",
       "      <td>male</td>\n",
       "      <td>27.0</td>\n",
       "      <td>8.6625</td>\n",
       "      <td>S</td>\n",
       "    </tr>\n",
       "    <tr>\n",
       "      <th>4</th>\n",
       "      <td>896</td>\n",
       "      <td>3</td>\n",
       "      <td>female</td>\n",
       "      <td>22.0</td>\n",
       "      <td>12.2875</td>\n",
       "      <td>S</td>\n",
       "    </tr>\n",
       "    <tr>\n",
       "      <th>...</th>\n",
       "      <td>...</td>\n",
       "      <td>...</td>\n",
       "      <td>...</td>\n",
       "      <td>...</td>\n",
       "      <td>...</td>\n",
       "      <td>...</td>\n",
       "    </tr>\n",
       "    <tr>\n",
       "      <th>413</th>\n",
       "      <td>1305</td>\n",
       "      <td>3</td>\n",
       "      <td>male</td>\n",
       "      <td>NaN</td>\n",
       "      <td>8.0500</td>\n",
       "      <td>S</td>\n",
       "    </tr>\n",
       "    <tr>\n",
       "      <th>414</th>\n",
       "      <td>1306</td>\n",
       "      <td>1</td>\n",
       "      <td>female</td>\n",
       "      <td>39.0</td>\n",
       "      <td>108.9000</td>\n",
       "      <td>C</td>\n",
       "    </tr>\n",
       "    <tr>\n",
       "      <th>415</th>\n",
       "      <td>1307</td>\n",
       "      <td>3</td>\n",
       "      <td>male</td>\n",
       "      <td>38.5</td>\n",
       "      <td>7.2500</td>\n",
       "      <td>S</td>\n",
       "    </tr>\n",
       "    <tr>\n",
       "      <th>416</th>\n",
       "      <td>1308</td>\n",
       "      <td>3</td>\n",
       "      <td>male</td>\n",
       "      <td>NaN</td>\n",
       "      <td>8.0500</td>\n",
       "      <td>S</td>\n",
       "    </tr>\n",
       "    <tr>\n",
       "      <th>417</th>\n",
       "      <td>1309</td>\n",
       "      <td>3</td>\n",
       "      <td>male</td>\n",
       "      <td>NaN</td>\n",
       "      <td>22.3583</td>\n",
       "      <td>C</td>\n",
       "    </tr>\n",
       "  </tbody>\n",
       "</table>\n",
       "<p>418 rows × 6 columns</p>\n",
       "</div>"
      ],
      "text/plain": [
       "     PassengerId  Pclass     Sex   Age      Fare Embarked\n",
       "0            892       3    male  34.5    7.8292        Q\n",
       "1            893       3  female  47.0    7.0000        S\n",
       "2            894       2    male  62.0    9.6875        Q\n",
       "3            895       3    male  27.0    8.6625        S\n",
       "4            896       3  female  22.0   12.2875        S\n",
       "..           ...     ...     ...   ...       ...      ...\n",
       "413         1305       3    male   NaN    8.0500        S\n",
       "414         1306       1  female  39.0  108.9000        C\n",
       "415         1307       3    male  38.5    7.2500        S\n",
       "416         1308       3    male   NaN    8.0500        S\n",
       "417         1309       3    male   NaN   22.3583        C\n",
       "\n",
       "[418 rows x 6 columns]"
      ]
     },
     "execution_count": 63,
     "metadata": {},
     "output_type": "execute_result"
    }
   ],
   "source": [
    "X_test"
   ]
  },
  {
   "cell_type": "code",
   "execution_count": 64,
   "id": "1744e2fe",
   "metadata": {
    "execution": {
     "iopub.execute_input": "2025-01-28T19:18:58.598106Z",
     "iopub.status.busy": "2025-01-28T19:18:58.597711Z",
     "iopub.status.idle": "2025-01-28T19:18:58.614603Z",
     "shell.execute_reply": "2025-01-28T19:18:58.613466Z"
    },
    "papermill": {
     "duration": 0.048051,
     "end_time": "2025-01-28T19:18:58.616364",
     "exception": false,
     "start_time": "2025-01-28T19:18:58.568313",
     "status": "completed"
    },
    "tags": []
   },
   "outputs": [
    {
     "data": {
      "text/html": [
       "<div>\n",
       "<style scoped>\n",
       "    .dataframe tbody tr th:only-of-type {\n",
       "        vertical-align: middle;\n",
       "    }\n",
       "\n",
       "    .dataframe tbody tr th {\n",
       "        vertical-align: top;\n",
       "    }\n",
       "\n",
       "    .dataframe thead th {\n",
       "        text-align: right;\n",
       "    }\n",
       "</style>\n",
       "<table border=\"1\" class=\"dataframe\">\n",
       "  <thead>\n",
       "    <tr style=\"text-align: right;\">\n",
       "      <th></th>\n",
       "      <th>PassengerId</th>\n",
       "      <th>Pclass</th>\n",
       "      <th>Age</th>\n",
       "      <th>Fare</th>\n",
       "      <th>Sex_male</th>\n",
       "      <th>Embarked_Q</th>\n",
       "      <th>Embarked_S</th>\n",
       "    </tr>\n",
       "  </thead>\n",
       "  <tbody>\n",
       "    <tr>\n",
       "      <th>0</th>\n",
       "      <td>892</td>\n",
       "      <td>3</td>\n",
       "      <td>34.5</td>\n",
       "      <td>7.8292</td>\n",
       "      <td>True</td>\n",
       "      <td>True</td>\n",
       "      <td>False</td>\n",
       "    </tr>\n",
       "    <tr>\n",
       "      <th>1</th>\n",
       "      <td>893</td>\n",
       "      <td>3</td>\n",
       "      <td>47.0</td>\n",
       "      <td>7.0000</td>\n",
       "      <td>False</td>\n",
       "      <td>False</td>\n",
       "      <td>True</td>\n",
       "    </tr>\n",
       "    <tr>\n",
       "      <th>2</th>\n",
       "      <td>894</td>\n",
       "      <td>2</td>\n",
       "      <td>62.0</td>\n",
       "      <td>9.6875</td>\n",
       "      <td>True</td>\n",
       "      <td>True</td>\n",
       "      <td>False</td>\n",
       "    </tr>\n",
       "    <tr>\n",
       "      <th>3</th>\n",
       "      <td>895</td>\n",
       "      <td>3</td>\n",
       "      <td>27.0</td>\n",
       "      <td>8.6625</td>\n",
       "      <td>True</td>\n",
       "      <td>False</td>\n",
       "      <td>True</td>\n",
       "    </tr>\n",
       "    <tr>\n",
       "      <th>4</th>\n",
       "      <td>896</td>\n",
       "      <td>3</td>\n",
       "      <td>22.0</td>\n",
       "      <td>12.2875</td>\n",
       "      <td>False</td>\n",
       "      <td>False</td>\n",
       "      <td>True</td>\n",
       "    </tr>\n",
       "  </tbody>\n",
       "</table>\n",
       "</div>"
      ],
      "text/plain": [
       "   PassengerId  Pclass   Age     Fare  Sex_male  Embarked_Q  Embarked_S\n",
       "0          892       3  34.5   7.8292      True        True       False\n",
       "1          893       3  47.0   7.0000     False       False        True\n",
       "2          894       2  62.0   9.6875      True        True       False\n",
       "3          895       3  27.0   8.6625      True       False        True\n",
       "4          896       3  22.0  12.2875     False       False        True"
      ]
     },
     "execution_count": 64,
     "metadata": {},
     "output_type": "execute_result"
    }
   ],
   "source": [
    "X_test = pd.get_dummies(X_test, drop_first = True)\n",
    "X_test.head()"
   ]
  },
  {
   "cell_type": "code",
   "execution_count": 65,
   "id": "ccd4f936",
   "metadata": {
    "execution": {
     "iopub.execute_input": "2025-01-28T19:18:58.674825Z",
     "iopub.status.busy": "2025-01-28T19:18:58.674409Z",
     "iopub.status.idle": "2025-01-28T19:18:58.685578Z",
     "shell.execute_reply": "2025-01-28T19:18:58.684341Z"
    },
    "papermill": {
     "duration": 0.042914,
     "end_time": "2025-01-28T19:18:58.687912",
     "exception": false,
     "start_time": "2025-01-28T19:18:58.644998",
     "status": "completed"
    },
    "tags": []
   },
   "outputs": [],
   "source": [
    "X_test = pd.DataFrame(imputer.fit_transform(X_test), columns=X_test.columns)"
   ]
  },
  {
   "cell_type": "code",
   "execution_count": 66,
   "id": "d20035a0",
   "metadata": {
    "execution": {
     "iopub.execute_input": "2025-01-28T19:18:58.748415Z",
     "iopub.status.busy": "2025-01-28T19:18:58.748064Z",
     "iopub.status.idle": "2025-01-28T19:18:58.755313Z",
     "shell.execute_reply": "2025-01-28T19:18:58.754167Z"
    },
    "papermill": {
     "duration": 0.039421,
     "end_time": "2025-01-28T19:18:58.757130",
     "exception": false,
     "start_time": "2025-01-28T19:18:58.717709",
     "status": "completed"
    },
    "tags": []
   },
   "outputs": [],
   "source": [
    "y_pred = gbc_tuned.predict(X_test)"
   ]
  },
  {
   "cell_type": "code",
   "execution_count": 67,
   "id": "d0e97241",
   "metadata": {
    "execution": {
     "iopub.execute_input": "2025-01-28T19:18:58.817143Z",
     "iopub.status.busy": "2025-01-28T19:18:58.816724Z",
     "iopub.status.idle": "2025-01-28T19:18:58.821575Z",
     "shell.execute_reply": "2025-01-28T19:18:58.820637Z"
    },
    "papermill": {
     "duration": 0.036451,
     "end_time": "2025-01-28T19:18:58.823323",
     "exception": false,
     "start_time": "2025-01-28T19:18:58.786872",
     "status": "completed"
    },
    "tags": []
   },
   "outputs": [],
   "source": [
    "X_test['Survived'] = y_pred"
   ]
  },
  {
   "cell_type": "code",
   "execution_count": 68,
   "id": "bd54743d",
   "metadata": {
    "execution": {
     "iopub.execute_input": "2025-01-28T19:18:58.882073Z",
     "iopub.status.busy": "2025-01-28T19:18:58.881610Z",
     "iopub.status.idle": "2025-01-28T19:18:58.887170Z",
     "shell.execute_reply": "2025-01-28T19:18:58.886169Z"
    },
    "papermill": {
     "duration": 0.036935,
     "end_time": "2025-01-28T19:18:58.888730",
     "exception": false,
     "start_time": "2025-01-28T19:18:58.851795",
     "status": "completed"
    },
    "tags": []
   },
   "outputs": [],
   "source": [
    "selected_columns = X_test[['PassengerId', 'Survived']]"
   ]
  },
  {
   "cell_type": "code",
   "execution_count": 69,
   "id": "72fb44ac",
   "metadata": {
    "execution": {
     "iopub.execute_input": "2025-01-28T19:18:58.947674Z",
     "iopub.status.busy": "2025-01-28T19:18:58.947300Z",
     "iopub.status.idle": "2025-01-28T19:18:58.959501Z",
     "shell.execute_reply": "2025-01-28T19:18:58.958519Z"
    },
    "papermill": {
     "duration": 0.044226,
     "end_time": "2025-01-28T19:18:58.961539",
     "exception": false,
     "start_time": "2025-01-28T19:18:58.917313",
     "status": "completed"
    },
    "tags": []
   },
   "outputs": [],
   "source": [
    "selected_columns.to_csv('selected_columns.csv', index=False)"
   ]
  },
  {
   "cell_type": "code",
   "execution_count": 70,
   "id": "f66fa735",
   "metadata": {
    "execution": {
     "iopub.execute_input": "2025-01-28T19:18:59.020295Z",
     "iopub.status.busy": "2025-01-28T19:18:59.019897Z",
     "iopub.status.idle": "2025-01-28T19:18:59.026528Z",
     "shell.execute_reply": "2025-01-28T19:18:59.025409Z"
    },
    "papermill": {
     "duration": 0.038019,
     "end_time": "2025-01-28T19:18:59.028690",
     "exception": false,
     "start_time": "2025-01-28T19:18:58.990671",
     "status": "completed"
    },
    "tags": []
   },
   "outputs": [
    {
     "data": {
      "text/html": [
       "<a href='selected_columns.csv' target='_blank'>selected_columns.csv</a><br>"
      ],
      "text/plain": [
       "/kaggle/working/selected_columns.csv"
      ]
     },
     "execution_count": 70,
     "metadata": {},
     "output_type": "execute_result"
    }
   ],
   "source": [
    "from IPython.display import FileLink\n",
    "\n",
    "# Path to your file\n",
    "file_path = 'selected_columns.csv'\n",
    "\n",
    "# Generate and display the download link\n",
    "FileLink(file_path)"
   ]
  },
  {
   "cell_type": "code",
   "execution_count": null,
   "id": "dde2867d",
   "metadata": {
    "papermill": {
     "duration": 0.028579,
     "end_time": "2025-01-28T19:18:59.086370",
     "exception": false,
     "start_time": "2025-01-28T19:18:59.057791",
     "status": "completed"
    },
    "tags": []
   },
   "outputs": [],
   "source": []
  }
 ],
 "metadata": {
  "kaggle": {
   "accelerator": "none",
   "dataSources": [
    {
     "databundleVersionId": 26502,
     "sourceId": 3136,
     "sourceType": "competition"
    }
   ],
   "dockerImageVersionId": 30839,
   "isGpuEnabled": false,
   "isInternetEnabled": false,
   "language": "python",
   "sourceType": "notebook"
  },
  "kernelspec": {
   "display_name": "Python 3",
   "language": "python",
   "name": "python3"
  },
  "language_info": {
   "codemirror_mode": {
    "name": "ipython",
    "version": 3
   },
   "file_extension": ".py",
   "mimetype": "text/x-python",
   "name": "python",
   "nbconvert_exporter": "python",
   "pygments_lexer": "ipython3",
   "version": "3.10.12"
  },
  "papermill": {
   "default_parameters": {},
   "duration": 521.85646,
   "end_time": "2025-01-28T19:19:00.038029",
   "environment_variables": {},
   "exception": null,
   "input_path": "__notebook__.ipynb",
   "output_path": "__notebook__.ipynb",
   "parameters": {},
   "start_time": "2025-01-28T19:10:18.181569",
   "version": "2.6.0"
  }
 },
 "nbformat": 4,
 "nbformat_minor": 5
}
